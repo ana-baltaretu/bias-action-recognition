{
 "cells": [
  {
   "cell_type": "markdown",
   "id": "b82fab3e",
   "metadata": {
    "pycharm": {
     "name": "#%% md\n"
    }
   },
   "source": [
    "# TC-CLIP Inference Demo for Custom Videos"
   ]
  },
  {
   "cell_type": "code",
   "execution_count": null,
   "id": "b0fd42d5-8cbc-4a1d-80a2-0ed6191effbf",
   "metadata": {
    "collapsed": true,
    "jupyter": {
     "outputs_hidden": true
    },
    "pycharm": {
     "name": "#%%\n"
    }
   },
   "outputs": [],
   "source": [
    "SETUP STUFF (RUN ONLY ONCE)"
   ]
  },
  {
   "cell_type": "code",
   "execution_count": 29,
   "id": "7751d900-d54d-455a-8b6a-48eb786cfe4c",
   "metadata": {
    "collapsed": true,
    "jupyter": {
     "outputs_hidden": true
    },
    "pycharm": {
     "name": "#%%\n"
    }
   },
   "outputs": [
    {
     "name": "stdout",
     "output_type": "stream",
     "text": [
      "Tue Mar  4 13:49:00 2025       \n",
      "+-----------------------------------------------------------------------------------------+\n",
      "| NVIDIA-SMI 556.35                 Driver Version: 556.35         CUDA Version: 12.5     |\n",
      "|-----------------------------------------+------------------------+----------------------+\n",
      "| GPU  Name                  Driver-Model | Bus-Id          Disp.A | Volatile Uncorr. ECC |\n",
      "| Fan  Temp   Perf          Pwr:Usage/Cap |           Memory-Usage | GPU-Util  Compute M. |\n",
      "|                                         |                        |               MIG M. |\n",
      "|=========================================+========================+======================|\n",
      "|   0  Quadro P2000                 WDDM  |   00000000:01:00.0  On |                  N/A |\n",
      "| N/A   54C    P8             N/A / ERR!  |    2528MiB /   4096MiB |      2%      Default |\n",
      "|                                         |                        |                  N/A |\n",
      "+-----------------------------------------+------------------------+----------------------+\n",
      "                                                                                         \n",
      "+-----------------------------------------------------------------------------------------+\n",
      "| Processes:                                                                              |\n",
      "|  GPU   GI   CI        PID   Type   Process name                              GPU Memory |\n",
      "|        ID   ID                                                               Usage      |\n",
      "|=========================================================================================|\n",
      "|    0   N/A  N/A      5072    C+G   C:\\Windows\\explorer.exe                     N/A      |\n",
      "|    0   N/A  N/A     11584    C+G   ...inaries\\Win64\\EpicGamesLauncher.exe      N/A      |\n",
      "|    0   N/A  N/A     16548    C+G   ...am Files\\CONEXANT\\Flow\\FlowTray.exe      N/A      |\n",
      "|    0   N/A  N/A     16604      C   C:\\Users\\anaba\\anaconda3\\python.exe         N/A      |\n",
      "|    0   N/A  N/A     29076      C   C:\\Users\\anaba\\anaconda3\\python.exe         N/A      |\n",
      "+-----------------------------------------------------------------------------------------+\n"
     ]
    }
   ],
   "source": [
    "# Check NVIDIA driver\n",
    "!nvidia-smi"
   ]
  },
  {
   "cell_type": "code",
   "execution_count": 32,
   "id": "1c30a17e-9345-4888-a2ae-8826043254d8",
   "metadata": {
    "collapsed": true,
    "jupyter": {
     "outputs_hidden": true
    },
    "pycharm": {
     "name": "#%%\n"
    }
   },
   "outputs": [
    {
     "name": "stderr",
     "output_type": "stream",
     "text": [
      "WARNING: Skipping torch as it is not installed.\n",
      "WARNING: Skipping torchvision as it is not installed.\n",
      "WARNING: Skipping torchaudio as it is not installed.\n"
     ]
    },
    {
     "name": "stdout",
     "output_type": "stream",
     "text": [
      "Looking in indexes: https://download.pytorch.org/whl/cu121\n",
      "Collecting torch\n",
      "  Using cached https://download.pytorch.org/whl/cu121/torch-2.5.1%2Bcu121-cp312-cp312-win_amd64.whl (2449.3 MB)\n",
      "Collecting torchvision\n",
      "  Using cached https://download.pytorch.org/whl/cu121/torchvision-0.20.1%2Bcu121-cp312-cp312-win_amd64.whl (6.1 MB)\n",
      "Collecting torchaudio\n",
      "  Using cached https://download.pytorch.org/whl/cu121/torchaudio-2.5.1%2Bcu121-cp312-cp312-win_amd64.whl (4.1 MB)\n",
      "Requirement already satisfied: filelock in c:\\users\\anaba\\anaconda3\\lib\\site-packages (from torch) (3.13.1)\n",
      "Requirement already satisfied: typing-extensions>=4.8.0 in c:\\users\\anaba\\anaconda3\\lib\\site-packages (from torch) (4.11.0)\n",
      "Requirement already satisfied: networkx in c:\\users\\anaba\\anaconda3\\lib\\site-packages (from torch) (3.2.1)\n",
      "Requirement already satisfied: jinja2 in c:\\users\\anaba\\anaconda3\\lib\\site-packages (from torch) (3.1.4)\n",
      "Requirement already satisfied: fsspec in c:\\users\\anaba\\anaconda3\\lib\\site-packages (from torch) (2024.3.1)\n",
      "Requirement already satisfied: setuptools in c:\\users\\anaba\\anaconda3\\lib\\site-packages (from torch) (69.5.1)\n",
      "Requirement already satisfied: sympy==1.13.1 in c:\\users\\anaba\\anaconda3\\lib\\site-packages (from torch) (1.13.1)\n",
      "Requirement already satisfied: mpmath<1.4,>=1.1.0 in c:\\users\\anaba\\anaconda3\\lib\\site-packages (from sympy==1.13.1->torch) (1.3.0)\n",
      "Requirement already satisfied: numpy in c:\\users\\anaba\\anaconda3\\lib\\site-packages (from torchvision) (1.26.4)\n",
      "Requirement already satisfied: pillow!=8.3.*,>=5.3.0 in c:\\users\\anaba\\anaconda3\\lib\\site-packages (from torchvision) (10.3.0)\n",
      "Requirement already satisfied: MarkupSafe>=2.0 in c:\\users\\anaba\\anaconda3\\lib\\site-packages (from jinja2->torch) (2.1.3)\n",
      "Installing collected packages: torch, torchvision, torchaudio\n",
      "Successfully installed torch-2.5.1+cu121 torchaudio-2.5.1+cu121 torchvision-0.20.1+cu121\n"
     ]
    }
   ],
   "source": [
    "# Get correct version of torch\n",
    "!pip uninstall torch torchvision torchaudio -y \n",
    "!pip install torch torchvision torchaudio --index-url https://download.pytorch.org/whl/cu121"
   ]
  },
  {
   "cell_type": "code",
   "execution_count": 33,
   "id": "25fc73cc-456e-4452-97c9-d2979bca7009",
   "metadata": {
    "collapsed": true,
    "jupyter": {
     "outputs_hidden": true
    },
    "pycharm": {
     "name": "#%%\n"
    }
   },
   "outputs": [
    {
     "name": "stdout",
     "output_type": "stream",
     "text": [
      "CUDA Available: True\n",
      "CUDA Version: 12.1\n",
      "cuDNN Version: 90100\n",
      "Torch Version: 2.5.1+cu121\n",
      "True\n",
      "1\n",
      "Quadro P2000\n"
     ]
    }
   ],
   "source": [
    "# Verify torch installation\n",
    "\n",
    "import torch\n",
    "print(\"CUDA Available:\", torch.cuda.is_available())\n",
    "print(\"CUDA Version:\", torch.version.cuda)\n",
    "print(\"cuDNN Version:\", torch.backends.cudnn.version())\n",
    "print(\"Torch Version:\", torch.__version__)\n",
    "\n",
    "print(torch.cuda.is_available())  # Should return True\n",
    "print(torch.cuda.device_count())  # Should return a positive number\n",
    "print(torch.cuda.get_device_name(0))  # Should print your GPU model"
   ]
  },
  {
   "cell_type": "markdown",
   "id": "774c4d42-3693-45ad-ba64-f8e48c159dac",
   "metadata": {
    "pycharm": {
     "name": "#%% md\n"
    }
   },
   "source": [
    "Verify Cuda installed, make sure to restart notebook if the code below doesn't work!"
   ]
  },
  {
   "cell_type": "code",
   "execution_count": 40,
   "id": "096c7b03",
   "metadata": {
    "collapsed": true,
    "jupyter": {
     "outputs_hidden": true
    },
    "pycharm": {
     "name": "#%%\n"
    }
   },
   "outputs": [
    {
     "name": "stdout",
     "output_type": "stream",
     "text": [
      "rustc 1.85.0 (4d91de4e4 2025-02-17)\n"
     ]
    }
   ],
   "source": [
    "!rustc --version"
   ]
  },
  {
   "cell_type": "code",
   "execution_count": null,
   "id": "ab3bffa9-cfab-4025-a747-0a53f16550ef",
   "metadata": {
    "collapsed": true,
    "jupyter": {
     "outputs_hidden": true
    },
    "pycharm": {
     "name": "#%%\n"
    }
   },
   "outputs": [],
   "source": [
    "!pip install timm"
   ]
  },
  {
   "cell_type": "markdown",
   "id": "2d9b23f9-2ae2-4041-a24d-3f93a4f437df",
   "metadata": {
    "pycharm": {
     "name": "#%% md\n"
    }
   },
   "source": [
    "If the command above doesnt work, you need to install rust https://www.rust-lang.org/tools/install.  \n",
    "Download rustup-init.exe (64-bit) + run exe  \n",
    "Restart Jupyter, run command below to check versions.  \n",
    "Try installing `timm` again!"
   ]
  },
  {
   "cell_type": "code",
   "execution_count": 42,
   "id": "ce980a67-afa9-427b-b6cf-fdb9b7fd872a",
   "metadata": {
    "collapsed": true,
    "jupyter": {
     "outputs_hidden": true
    },
    "pycharm": {
     "name": "#%%\n"
    }
   },
   "outputs": [
    {
     "name": "stdout",
     "output_type": "stream",
     "text": [
      "rustc 1.85.0 (4d91de4e4 2025-02-17)\n",
      "cargo 1.85.0 (d73d2caf9 2024-12-31)\n"
     ]
    }
   ],
   "source": [
    "!rustc --version\n",
    "!cargo --version"
   ]
  },
  {
   "cell_type": "code",
   "execution_count": null,
   "id": "2e1f676a",
   "metadata": {
    "collapsed": true,
    "jupyter": {
     "outputs_hidden": true
    },
    "pycharm": {
     "name": "#%%\n"
    }
   },
   "outputs": [],
   "source": [
    "# Install requirements\n",
    "!pip install hydra-core\n",
    "!pip install omegaconf\n",
    "!pip install mmcv-full -f https://download.openmmlab.com/mmcv/dist/cu118/torch2.0/index.html\n",
    "!pip install einops\n",
    "!pip install ftfy\n",
    "!pip install termcolor\n",
    "!pip install decord"
   ]
  },
  {
   "cell_type": "markdown",
   "id": "3e37e892",
   "metadata": {
    "pycharm": {
     "name": "#%% md\n"
    }
   },
   "source": [
    "## Set model path, custom video path, class names. (Run every time below)"
   ]
  },
  {
   "cell_type": "code",
   "execution_count": 272,
   "id": "b539e8ee",
   "metadata": {
    "collapsed": true,
    "jupyter": {
     "outputs_hidden": true
    },
    "pycharm": {
     "name": "#%%\n"
    }
   },
   "outputs": [],
   "source": [
    "### Change to your settings ###\n",
    "output=\"C:/Users/anaba/OneDrive/Desktop/Master Thesis/bias-action-recognition/framework/models/tc-clip/weights/inference\"\n",
    "tc_clip_model_path = \"C:/Users/anaba/OneDrive/Desktop/Master Thesis/bias-action-recognition/framework/models/tc-clip/weights/zero_shot_k400_tc_clip.pth\"   # Your pretrained model saved path\n",
    "class_names = ['dancing', 'jumping', 'kicking', 'kneeling', 'punching', 'running', 'throwing', 'walking']  # Class names\n",
    "\n",
    "parent_folder=\"C:/Users/anaba/OneDrive/Desktop/Master Thesis/bias-action-recognition/bedlam/be_imagedata_download/categorized/\"\n",
    "video_path = parent_folder + \"20221011_1_250_batch01hand_closeup_suburb_d_mp4/walking/seq_000001.mp4\" # TODO: Update custom video path"
   ]
  },
  {
   "cell_type": "markdown",
   "id": "2f8aa680-f90a-49d4-864e-220f09da1472",
   "metadata": {
    "pycharm": {
     "name": "#%% md\n"
    }
   },
   "source": [
    "## No need to change below codes, just run the cells."
   ]
  },
  {
   "cell_type": "code",
   "execution_count": 275,
   "id": "8245b63a",
   "metadata": {
    "collapsed": true,
    "jupyter": {
     "outputs_hidden": true
    },
    "pycharm": {
     "name": "#%%\n"
    }
   },
   "outputs": [],
   "source": [
    "# Import libraries\n",
    "import os\n",
    "from hydra import initialize, compose\n",
    "from omegaconf import OmegaConf\n",
    "from pathlib import Path\n",
    "import torch\n",
    "\n",
    "from datasets.pipeline import Compose\n",
    "from trainers.build_trainer import returnCLIP\n",
    "from utils.logger import create_logger\n",
    "from utils.print_utils import colorstr\n",
    "from utils.tools import load_checkpoint"
   ]
  },
  {
   "cell_type": "markdown",
   "id": "3ccb1a66",
   "metadata": {
    "pycharm": {
     "name": "#%% md\n"
    }
   },
   "source": [
    "### Init configs and logger"
   ]
  },
  {
   "cell_type": "code",
   "execution_count": 278,
   "id": "ec10eb46",
   "metadata": {
    "collapsed": true,
    "jupyter": {
     "outputs_hidden": true
    },
    "pycharm": {
     "name": "#%%\n"
    }
   },
   "outputs": [],
   "source": [
    "# Initialize Hydra configs\n",
    "overrides = [\n",
    "    f\"output={output}\",\n",
    "    \"eval=test\",\n",
    "    \"trainer=tc_clip\",\n",
    "    f\"resume={tc_clip_model_path}\"\n",
    "]\n",
    "\n",
    "# Initialize Hydra with config path\n",
    "with initialize(version_base=None, config_path=\"configs\"):\n",
    "    config = compose(config_name=\"zero_shot.yaml\", overrides=overrides)"
   ]
  },
  {
   "cell_type": "code",
   "execution_count": 279,
   "id": "748d8d90",
   "metadata": {
    "collapsed": true,
    "jupyter": {
     "outputs_hidden": true
    },
    "pycharm": {
     "name": "#%%\n"
    }
   },
   "outputs": [
    {
     "name": "stdout",
     "output_type": "stream",
     "text": [
      "\u001B[32m[03-04 13:59:51 TCCLIP]\u001B[0m\u001B[33m(3979588942.py 9)\u001B[0m: INFO working dir: C:/Users/anaba/OneDrive/Desktop/Master Thesis/bias-action-recognition/framework/models/tc-clip/weights/inference\n"
     ]
    }
   ],
   "source": [
    "# Init settings\n",
    "OmegaConf.set_struct(config, False)  # Needed to add fields at runtime below\n",
    "\n",
    "# Define working dir\n",
    "Path(config.output).mkdir(parents=True, exist_ok=True)\n",
    "\n",
    "# Logger\n",
    "logger = create_logger(output_dir=config.output, dist_rank=0, name=f\"{config.trainer_name}\")\n",
    "logger.info(f\"working dir: {config.output}\")\n",
    "\n",
    "# Whether to use pytorch or apex amp\n",
    "major, minor = int(torch.__version__.split('.')[0]), int(torch.__version__.split('.')[1])\n",
    "config.use_torch_amp = (major >= 2)"
   ]
  },
  {
   "cell_type": "markdown",
   "id": "e9454e3f",
   "metadata": {
    "pycharm": {
     "name": "#%% md\n"
    }
   },
   "source": [
    "### Build model & load checkpoint"
   ]
  },
  {
   "cell_type": "code",
   "execution_count": 283,
   "id": "a429597c",
   "metadata": {
    "collapsed": true,
    "jupyter": {
     "outputs_hidden": true
    },
    "pycharm": {
     "name": "#%%\n"
    },
    "scrolled": true
   },
   "outputs": [
    {
     "name": "stdout",
     "output_type": "stream",
     "text": [
      "\u001B[32m[03-04 13:59:51 TCCLIP]\u001B[0m\u001B[33m(build_trainer.py 56)\u001B[0m: INFO Loading CLIP (backbone: ViT-B/16)\n",
      "Using spatial positional embedding\n",
      "Weights not found for some missing keys:  ['visual.transformer.resblocks.1.attn.local_global_bias_table', 'visual.transformer.resblocks.2.attn.local_global_bias_table', 'visual.transformer.resblocks.3.attn.local_global_bias_table', 'visual.transformer.resblocks.4.attn.local_global_bias_table', 'visual.transformer.resblocks.5.attn.local_global_bias_table', 'visual.transformer.resblocks.6.attn.local_global_bias_table', 'visual.transformer.resblocks.7.attn.local_global_bias_table', 'visual.transformer.resblocks.8.attn.local_global_bias_table', 'visual.transformer.resblocks.9.attn.local_global_bias_table', 'visual.transformer.resblocks.10.attn.local_global_bias_table', 'visual.transformer.resblocks.11.attn.local_global_bias_table']\n",
      "\u001B[32m[03-04 13:59:55 TCCLIP]\u001B[0m\u001B[33m(build_trainer.py 59)\u001B[0m: INFO \u001B[34m\u001B[1mBuilding TCCLIP\u001B[0m\n",
      "\u001B[32m[03-04 13:59:55 TCCLIP]\u001B[0m\u001B[33m(tc_clip_prompt_learner.py 54)\u001B[0m: INFO Video-conditional prompt learning\n",
      "\u001B[32m[03-04 13:59:55 TCCLIP]\u001B[0m\u001B[33m(tc_clip_prompt_learner.py 55)\u001B[0m: INFO Initial context: \"a photo of a\"\n",
      "\u001B[32m[03-04 13:59:55 TCCLIP]\u001B[0m\u001B[33m(tc_clip_prompt_learner.py 56)\u001B[0m: INFO Number of learnable text prompt vectors: 4\n",
      "\u001B[32m[03-04 13:59:55 TCCLIP]\u001B[0m\u001B[33m(tc_clip_text_encoder.py 96)\u001B[0m: INFO Copy CLIP transformer 11th layer weights to prompt generation layer\n",
      "\u001B[32m[03-04 13:59:55 TCCLIP]\u001B[0m\u001B[33m(tc_clip_text_encoder.py 106)\u001B[0m: INFO Prompt generation level: [11]\n",
      "\u001B[32m[03-04 13:59:55 TCCLIP]\u001B[0m\u001B[33m(tc_clip_text_encoder.py 107)\u001B[0m: INFO Prompt generation stop grad: True\n",
      "\u001B[32m[03-04 13:59:55 TCCLIP]\u001B[0m\u001B[33m(tc_clip.py 27)\u001B[0m: INFO Using context tokens from vision layer [11]\n",
      "\u001B[32m[03-04 13:59:55 TCCLIP]\u001B[0m\u001B[33m(build_trainer.py 97)\u001B[0m: INFO ----------------------------------------------------\n",
      "\u001B[32m[03-04 13:59:55 TCCLIP]\u001B[0m\u001B[33m(build_trainer.py 98)\u001B[0m: INFO Freezed Parameters\n",
      "\u001B[32m[03-04 13:59:55 TCCLIP]\u001B[0m\u001B[33m(build_trainer.py 102)\u001B[0m: INFO ----------------------------------------------------\n",
      "\u001B[32m[03-04 13:59:55 TCCLIP]\u001B[0m\u001B[33m(build_trainer.py 105)\u001B[0m: INFO Number of Parameters: 127.5M\n"
     ]
    },
    {
     "data": {
      "text/plain": [
       "TCCLIP(\n",
       "  (prompt_learner): VPPromptLearner()\n",
       "  (image_encoder): TCVisionTransformer(\n",
       "    (conv1): Conv2d(3, 768, kernel_size=(16, 16), stride=(16, 16), bias=False)\n",
       "    (ln_pre): LayerNorm((768,), eps=1e-05, elementwise_affine=True)\n",
       "    (transformer): Transformer(\n",
       "      (resblocks): Sequential(\n",
       "        (0): TCAttentionBlock(\n",
       "          (attn): TCAttention(\n",
       "            (q_proj): Linear(in_features=768, out_features=768, bias=True)\n",
       "            (k_proj): Linear(in_features=768, out_features=768, bias=True)\n",
       "            (v_proj): Linear(in_features=768, out_features=768, bias=True)\n",
       "            (out_proj): Linear(in_features=768, out_features=768, bias=True)\n",
       "          )\n",
       "          (ln_1): LayerNorm((768,), eps=1e-05, elementwise_affine=True)\n",
       "          (mlp): Sequential(\n",
       "            (c_fc): Linear(in_features=768, out_features=3072, bias=True)\n",
       "            (gelu): QuickGELU()\n",
       "            (c_proj): Linear(in_features=3072, out_features=768, bias=True)\n",
       "          )\n",
       "          (ln_2): LayerNorm((768,), eps=1e-05, elementwise_affine=True)\n",
       "        )\n",
       "        (1): TCAttentionBlock(\n",
       "          (attn): TCAttention(\n",
       "            (q_proj): Linear(in_features=768, out_features=768, bias=True)\n",
       "            (k_proj): Linear(in_features=768, out_features=768, bias=True)\n",
       "            (v_proj): Linear(in_features=768, out_features=768, bias=True)\n",
       "            (out_proj): Linear(in_features=768, out_features=768, bias=True)\n",
       "          )\n",
       "          (ln_1): LayerNorm((768,), eps=1e-05, elementwise_affine=True)\n",
       "          (mlp): Sequential(\n",
       "            (c_fc): Linear(in_features=768, out_features=3072, bias=True)\n",
       "            (gelu): QuickGELU()\n",
       "            (c_proj): Linear(in_features=3072, out_features=768, bias=True)\n",
       "          )\n",
       "          (ln_2): LayerNorm((768,), eps=1e-05, elementwise_affine=True)\n",
       "        )\n",
       "        (2): TCAttentionBlock(\n",
       "          (attn): TCAttention(\n",
       "            (q_proj): Linear(in_features=768, out_features=768, bias=True)\n",
       "            (k_proj): Linear(in_features=768, out_features=768, bias=True)\n",
       "            (v_proj): Linear(in_features=768, out_features=768, bias=True)\n",
       "            (out_proj): Linear(in_features=768, out_features=768, bias=True)\n",
       "          )\n",
       "          (ln_1): LayerNorm((768,), eps=1e-05, elementwise_affine=True)\n",
       "          (mlp): Sequential(\n",
       "            (c_fc): Linear(in_features=768, out_features=3072, bias=True)\n",
       "            (gelu): QuickGELU()\n",
       "            (c_proj): Linear(in_features=3072, out_features=768, bias=True)\n",
       "          )\n",
       "          (ln_2): LayerNorm((768,), eps=1e-05, elementwise_affine=True)\n",
       "        )\n",
       "        (3): TCAttentionBlock(\n",
       "          (attn): TCAttention(\n",
       "            (q_proj): Linear(in_features=768, out_features=768, bias=True)\n",
       "            (k_proj): Linear(in_features=768, out_features=768, bias=True)\n",
       "            (v_proj): Linear(in_features=768, out_features=768, bias=True)\n",
       "            (out_proj): Linear(in_features=768, out_features=768, bias=True)\n",
       "          )\n",
       "          (ln_1): LayerNorm((768,), eps=1e-05, elementwise_affine=True)\n",
       "          (mlp): Sequential(\n",
       "            (c_fc): Linear(in_features=768, out_features=3072, bias=True)\n",
       "            (gelu): QuickGELU()\n",
       "            (c_proj): Linear(in_features=3072, out_features=768, bias=True)\n",
       "          )\n",
       "          (ln_2): LayerNorm((768,), eps=1e-05, elementwise_affine=True)\n",
       "        )\n",
       "        (4): TCAttentionBlock(\n",
       "          (attn): TCAttention(\n",
       "            (q_proj): Linear(in_features=768, out_features=768, bias=True)\n",
       "            (k_proj): Linear(in_features=768, out_features=768, bias=True)\n",
       "            (v_proj): Linear(in_features=768, out_features=768, bias=True)\n",
       "            (out_proj): Linear(in_features=768, out_features=768, bias=True)\n",
       "          )\n",
       "          (ln_1): LayerNorm((768,), eps=1e-05, elementwise_affine=True)\n",
       "          (mlp): Sequential(\n",
       "            (c_fc): Linear(in_features=768, out_features=3072, bias=True)\n",
       "            (gelu): QuickGELU()\n",
       "            (c_proj): Linear(in_features=3072, out_features=768, bias=True)\n",
       "          )\n",
       "          (ln_2): LayerNorm((768,), eps=1e-05, elementwise_affine=True)\n",
       "        )\n",
       "        (5): TCAttentionBlock(\n",
       "          (attn): TCAttention(\n",
       "            (q_proj): Linear(in_features=768, out_features=768, bias=True)\n",
       "            (k_proj): Linear(in_features=768, out_features=768, bias=True)\n",
       "            (v_proj): Linear(in_features=768, out_features=768, bias=True)\n",
       "            (out_proj): Linear(in_features=768, out_features=768, bias=True)\n",
       "          )\n",
       "          (ln_1): LayerNorm((768,), eps=1e-05, elementwise_affine=True)\n",
       "          (mlp): Sequential(\n",
       "            (c_fc): Linear(in_features=768, out_features=3072, bias=True)\n",
       "            (gelu): QuickGELU()\n",
       "            (c_proj): Linear(in_features=3072, out_features=768, bias=True)\n",
       "          )\n",
       "          (ln_2): LayerNorm((768,), eps=1e-05, elementwise_affine=True)\n",
       "        )\n",
       "        (6): TCAttentionBlock(\n",
       "          (attn): TCAttention(\n",
       "            (q_proj): Linear(in_features=768, out_features=768, bias=True)\n",
       "            (k_proj): Linear(in_features=768, out_features=768, bias=True)\n",
       "            (v_proj): Linear(in_features=768, out_features=768, bias=True)\n",
       "            (out_proj): Linear(in_features=768, out_features=768, bias=True)\n",
       "          )\n",
       "          (ln_1): LayerNorm((768,), eps=1e-05, elementwise_affine=True)\n",
       "          (mlp): Sequential(\n",
       "            (c_fc): Linear(in_features=768, out_features=3072, bias=True)\n",
       "            (gelu): QuickGELU()\n",
       "            (c_proj): Linear(in_features=3072, out_features=768, bias=True)\n",
       "          )\n",
       "          (ln_2): LayerNorm((768,), eps=1e-05, elementwise_affine=True)\n",
       "        )\n",
       "        (7): TCAttentionBlock(\n",
       "          (attn): TCAttention(\n",
       "            (q_proj): Linear(in_features=768, out_features=768, bias=True)\n",
       "            (k_proj): Linear(in_features=768, out_features=768, bias=True)\n",
       "            (v_proj): Linear(in_features=768, out_features=768, bias=True)\n",
       "            (out_proj): Linear(in_features=768, out_features=768, bias=True)\n",
       "          )\n",
       "          (ln_1): LayerNorm((768,), eps=1e-05, elementwise_affine=True)\n",
       "          (mlp): Sequential(\n",
       "            (c_fc): Linear(in_features=768, out_features=3072, bias=True)\n",
       "            (gelu): QuickGELU()\n",
       "            (c_proj): Linear(in_features=3072, out_features=768, bias=True)\n",
       "          )\n",
       "          (ln_2): LayerNorm((768,), eps=1e-05, elementwise_affine=True)\n",
       "        )\n",
       "        (8): TCAttentionBlock(\n",
       "          (attn): TCAttention(\n",
       "            (q_proj): Linear(in_features=768, out_features=768, bias=True)\n",
       "            (k_proj): Linear(in_features=768, out_features=768, bias=True)\n",
       "            (v_proj): Linear(in_features=768, out_features=768, bias=True)\n",
       "            (out_proj): Linear(in_features=768, out_features=768, bias=True)\n",
       "          )\n",
       "          (ln_1): LayerNorm((768,), eps=1e-05, elementwise_affine=True)\n",
       "          (mlp): Sequential(\n",
       "            (c_fc): Linear(in_features=768, out_features=3072, bias=True)\n",
       "            (gelu): QuickGELU()\n",
       "            (c_proj): Linear(in_features=3072, out_features=768, bias=True)\n",
       "          )\n",
       "          (ln_2): LayerNorm((768,), eps=1e-05, elementwise_affine=True)\n",
       "        )\n",
       "        (9): TCAttentionBlock(\n",
       "          (attn): TCAttention(\n",
       "            (q_proj): Linear(in_features=768, out_features=768, bias=True)\n",
       "            (k_proj): Linear(in_features=768, out_features=768, bias=True)\n",
       "            (v_proj): Linear(in_features=768, out_features=768, bias=True)\n",
       "            (out_proj): Linear(in_features=768, out_features=768, bias=True)\n",
       "          )\n",
       "          (ln_1): LayerNorm((768,), eps=1e-05, elementwise_affine=True)\n",
       "          (mlp): Sequential(\n",
       "            (c_fc): Linear(in_features=768, out_features=3072, bias=True)\n",
       "            (gelu): QuickGELU()\n",
       "            (c_proj): Linear(in_features=3072, out_features=768, bias=True)\n",
       "          )\n",
       "          (ln_2): LayerNorm((768,), eps=1e-05, elementwise_affine=True)\n",
       "        )\n",
       "        (10): TCAttentionBlock(\n",
       "          (attn): TCAttention(\n",
       "            (q_proj): Linear(in_features=768, out_features=768, bias=True)\n",
       "            (k_proj): Linear(in_features=768, out_features=768, bias=True)\n",
       "            (v_proj): Linear(in_features=768, out_features=768, bias=True)\n",
       "            (out_proj): Linear(in_features=768, out_features=768, bias=True)\n",
       "          )\n",
       "          (ln_1): LayerNorm((768,), eps=1e-05, elementwise_affine=True)\n",
       "          (mlp): Sequential(\n",
       "            (c_fc): Linear(in_features=768, out_features=3072, bias=True)\n",
       "            (gelu): QuickGELU()\n",
       "            (c_proj): Linear(in_features=3072, out_features=768, bias=True)\n",
       "          )\n",
       "          (ln_2): LayerNorm((768,), eps=1e-05, elementwise_affine=True)\n",
       "        )\n",
       "        (11): TCAttentionBlock(\n",
       "          (attn): TCAttention(\n",
       "            (q_proj): Linear(in_features=768, out_features=768, bias=True)\n",
       "            (k_proj): Linear(in_features=768, out_features=768, bias=True)\n",
       "            (v_proj): Linear(in_features=768, out_features=768, bias=True)\n",
       "            (out_proj): Linear(in_features=768, out_features=768, bias=True)\n",
       "          )\n",
       "          (ln_1): LayerNorm((768,), eps=1e-05, elementwise_affine=True)\n",
       "          (mlp): Sequential(\n",
       "            (c_fc): Linear(in_features=768, out_features=3072, bias=True)\n",
       "            (gelu): QuickGELU()\n",
       "            (c_proj): Linear(in_features=3072, out_features=768, bias=True)\n",
       "          )\n",
       "          (ln_2): LayerNorm((768,), eps=1e-05, elementwise_affine=True)\n",
       "        )\n",
       "      )\n",
       "    )\n",
       "    (ln_post): LayerNorm((768,), eps=1e-05, elementwise_affine=True)\n",
       "  )\n",
       "  (text_encoder): VPTextEncoder(\n",
       "    (transformer): Transformer(\n",
       "      (resblocks): Sequential(\n",
       "        (0): ResidualAttentionBlock(\n",
       "          (attn): MultiheadAttention(\n",
       "            (out_proj): NonDynamicallyQuantizableLinear(in_features=512, out_features=512, bias=True)\n",
       "          )\n",
       "          (ln_1): LayerNorm((512,), eps=1e-05, elementwise_affine=True)\n",
       "          (mlp): Sequential(\n",
       "            (c_fc): Linear(in_features=512, out_features=2048, bias=True)\n",
       "            (gelu): QuickGELU()\n",
       "            (c_proj): Linear(in_features=2048, out_features=512, bias=True)\n",
       "          )\n",
       "          (ln_2): LayerNorm((512,), eps=1e-05, elementwise_affine=True)\n",
       "        )\n",
       "        (1): ResidualAttentionBlock(\n",
       "          (attn): MultiheadAttention(\n",
       "            (out_proj): NonDynamicallyQuantizableLinear(in_features=512, out_features=512, bias=True)\n",
       "          )\n",
       "          (ln_1): LayerNorm((512,), eps=1e-05, elementwise_affine=True)\n",
       "          (mlp): Sequential(\n",
       "            (c_fc): Linear(in_features=512, out_features=2048, bias=True)\n",
       "            (gelu): QuickGELU()\n",
       "            (c_proj): Linear(in_features=2048, out_features=512, bias=True)\n",
       "          )\n",
       "          (ln_2): LayerNorm((512,), eps=1e-05, elementwise_affine=True)\n",
       "        )\n",
       "        (2): ResidualAttentionBlock(\n",
       "          (attn): MultiheadAttention(\n",
       "            (out_proj): NonDynamicallyQuantizableLinear(in_features=512, out_features=512, bias=True)\n",
       "          )\n",
       "          (ln_1): LayerNorm((512,), eps=1e-05, elementwise_affine=True)\n",
       "          (mlp): Sequential(\n",
       "            (c_fc): Linear(in_features=512, out_features=2048, bias=True)\n",
       "            (gelu): QuickGELU()\n",
       "            (c_proj): Linear(in_features=2048, out_features=512, bias=True)\n",
       "          )\n",
       "          (ln_2): LayerNorm((512,), eps=1e-05, elementwise_affine=True)\n",
       "        )\n",
       "        (3): ResidualAttentionBlock(\n",
       "          (attn): MultiheadAttention(\n",
       "            (out_proj): NonDynamicallyQuantizableLinear(in_features=512, out_features=512, bias=True)\n",
       "          )\n",
       "          (ln_1): LayerNorm((512,), eps=1e-05, elementwise_affine=True)\n",
       "          (mlp): Sequential(\n",
       "            (c_fc): Linear(in_features=512, out_features=2048, bias=True)\n",
       "            (gelu): QuickGELU()\n",
       "            (c_proj): Linear(in_features=2048, out_features=512, bias=True)\n",
       "          )\n",
       "          (ln_2): LayerNorm((512,), eps=1e-05, elementwise_affine=True)\n",
       "        )\n",
       "        (4): ResidualAttentionBlock(\n",
       "          (attn): MultiheadAttention(\n",
       "            (out_proj): NonDynamicallyQuantizableLinear(in_features=512, out_features=512, bias=True)\n",
       "          )\n",
       "          (ln_1): LayerNorm((512,), eps=1e-05, elementwise_affine=True)\n",
       "          (mlp): Sequential(\n",
       "            (c_fc): Linear(in_features=512, out_features=2048, bias=True)\n",
       "            (gelu): QuickGELU()\n",
       "            (c_proj): Linear(in_features=2048, out_features=512, bias=True)\n",
       "          )\n",
       "          (ln_2): LayerNorm((512,), eps=1e-05, elementwise_affine=True)\n",
       "        )\n",
       "        (5): ResidualAttentionBlock(\n",
       "          (attn): MultiheadAttention(\n",
       "            (out_proj): NonDynamicallyQuantizableLinear(in_features=512, out_features=512, bias=True)\n",
       "          )\n",
       "          (ln_1): LayerNorm((512,), eps=1e-05, elementwise_affine=True)\n",
       "          (mlp): Sequential(\n",
       "            (c_fc): Linear(in_features=512, out_features=2048, bias=True)\n",
       "            (gelu): QuickGELU()\n",
       "            (c_proj): Linear(in_features=2048, out_features=512, bias=True)\n",
       "          )\n",
       "          (ln_2): LayerNorm((512,), eps=1e-05, elementwise_affine=True)\n",
       "        )\n",
       "        (6): ResidualAttentionBlock(\n",
       "          (attn): MultiheadAttention(\n",
       "            (out_proj): NonDynamicallyQuantizableLinear(in_features=512, out_features=512, bias=True)\n",
       "          )\n",
       "          (ln_1): LayerNorm((512,), eps=1e-05, elementwise_affine=True)\n",
       "          (mlp): Sequential(\n",
       "            (c_fc): Linear(in_features=512, out_features=2048, bias=True)\n",
       "            (gelu): QuickGELU()\n",
       "            (c_proj): Linear(in_features=2048, out_features=512, bias=True)\n",
       "          )\n",
       "          (ln_2): LayerNorm((512,), eps=1e-05, elementwise_affine=True)\n",
       "        )\n",
       "        (7): ResidualAttentionBlock(\n",
       "          (attn): MultiheadAttention(\n",
       "            (out_proj): NonDynamicallyQuantizableLinear(in_features=512, out_features=512, bias=True)\n",
       "          )\n",
       "          (ln_1): LayerNorm((512,), eps=1e-05, elementwise_affine=True)\n",
       "          (mlp): Sequential(\n",
       "            (c_fc): Linear(in_features=512, out_features=2048, bias=True)\n",
       "            (gelu): QuickGELU()\n",
       "            (c_proj): Linear(in_features=2048, out_features=512, bias=True)\n",
       "          )\n",
       "          (ln_2): LayerNorm((512,), eps=1e-05, elementwise_affine=True)\n",
       "        )\n",
       "        (8): ResidualAttentionBlock(\n",
       "          (attn): MultiheadAttention(\n",
       "            (out_proj): NonDynamicallyQuantizableLinear(in_features=512, out_features=512, bias=True)\n",
       "          )\n",
       "          (ln_1): LayerNorm((512,), eps=1e-05, elementwise_affine=True)\n",
       "          (mlp): Sequential(\n",
       "            (c_fc): Linear(in_features=512, out_features=2048, bias=True)\n",
       "            (gelu): QuickGELU()\n",
       "            (c_proj): Linear(in_features=2048, out_features=512, bias=True)\n",
       "          )\n",
       "          (ln_2): LayerNorm((512,), eps=1e-05, elementwise_affine=True)\n",
       "        )\n",
       "        (9): ResidualAttentionBlock(\n",
       "          (attn): MultiheadAttention(\n",
       "            (out_proj): NonDynamicallyQuantizableLinear(in_features=512, out_features=512, bias=True)\n",
       "          )\n",
       "          (ln_1): LayerNorm((512,), eps=1e-05, elementwise_affine=True)\n",
       "          (mlp): Sequential(\n",
       "            (c_fc): Linear(in_features=512, out_features=2048, bias=True)\n",
       "            (gelu): QuickGELU()\n",
       "            (c_proj): Linear(in_features=2048, out_features=512, bias=True)\n",
       "          )\n",
       "          (ln_2): LayerNorm((512,), eps=1e-05, elementwise_affine=True)\n",
       "        )\n",
       "        (10): ResidualAttentionBlock(\n",
       "          (attn): MultiheadAttention(\n",
       "            (out_proj): NonDynamicallyQuantizableLinear(in_features=512, out_features=512, bias=True)\n",
       "          )\n",
       "          (ln_1): LayerNorm((512,), eps=1e-05, elementwise_affine=True)\n",
       "          (mlp): Sequential(\n",
       "            (c_fc): Linear(in_features=512, out_features=2048, bias=True)\n",
       "            (gelu): QuickGELU()\n",
       "            (c_proj): Linear(in_features=2048, out_features=512, bias=True)\n",
       "          )\n",
       "          (ln_2): LayerNorm((512,), eps=1e-05, elementwise_affine=True)\n",
       "        )\n",
       "        (11): ResidualAttentionBlock(\n",
       "          (attn): MultiheadAttention(\n",
       "            (out_proj): NonDynamicallyQuantizableLinear(in_features=512, out_features=512, bias=True)\n",
       "          )\n",
       "          (ln_1): LayerNorm((512,), eps=1e-05, elementwise_affine=True)\n",
       "          (mlp): Sequential(\n",
       "            (c_fc): Linear(in_features=512, out_features=2048, bias=True)\n",
       "            (gelu): QuickGELU()\n",
       "            (c_proj): Linear(in_features=2048, out_features=512, bias=True)\n",
       "          )\n",
       "          (ln_2): LayerNorm((512,), eps=1e-05, elementwise_affine=True)\n",
       "        )\n",
       "      )\n",
       "    )\n",
       "    (ln_final): LayerNorm((512,), eps=1e-05, elementwise_affine=True)\n",
       "    (prompt_generation_layer): ModuleList(\n",
       "      (0): PromptGenerationLayer(\n",
       "        (attn): MultiheadAttention(\n",
       "          (out_proj): NonDynamicallyQuantizableLinear(in_features=512, out_features=512, bias=True)\n",
       "        )\n",
       "        (ln_1): LayerNorm((512,), eps=1e-05, elementwise_affine=True)\n",
       "        (ln_1_kv): LayerNorm((512,), eps=1e-05, elementwise_affine=True)\n",
       "        (mlp): Sequential(\n",
       "          (c_fc): Linear(in_features=512, out_features=2048, bias=True)\n",
       "          (gelu): QuickGELU()\n",
       "          (c_proj): Linear(in_features=2048, out_features=512, bias=True)\n",
       "        )\n",
       "        (ln_2): LayerNorm((512,), eps=1e-05, elementwise_affine=True)\n",
       "      )\n",
       "    )\n",
       "  )\n",
       ")"
      ]
     },
     "execution_count": 283,
     "metadata": {},
     "output_type": "execute_result"
    }
   ],
   "source": [
    "# Build model\n",
    "model = returnCLIP(config, logger, class_names)\n",
    "model.cuda()"
   ]
  },
  {
   "cell_type": "code",
   "execution_count": 284,
   "id": "b1b0a56f",
   "metadata": {
    "collapsed": true,
    "jupyter": {
     "outputs_hidden": true
    },
    "pycharm": {
     "name": "#%%\n"
    }
   },
   "outputs": [
    {
     "name": "stdout",
     "output_type": "stream",
     "text": [
      "\u001B[32m[03-04 13:59:56 TCCLIP]\u001B[0m\u001B[33m(tools.py 180)\u001B[0m: INFO ==============> Resuming from C:/Users/anaba/OneDrive/Desktop/Master Thesis/bias-action-recognition/framework/models/tc-clip/weights/zero_shot_k400_tc_clip.pth....................\n",
      "\u001B[32m[03-04 13:59:56 TCCLIP]\u001B[0m\u001B[33m(tools.py 208)\u001B[0m: INFO resume model: _IncompatibleKeys(missing_keys=['prompt_learner.token_prefix', 'prompt_learner.token_suffix'], unexpected_keys=[])\n",
      "\u001B[32m[03-04 13:59:56 TCCLIP]\u001B[0m\u001B[33m(tools.py 218)\u001B[0m: INFO => loaded successfully 'C:/Users/anaba/OneDrive/Desktop/Master Thesis/bias-action-recognition/framework/models/tc-clip/weights/zero_shot_k400_tc_clip.pth' (epoch 9)\n",
      "\u001B[32m[03-04 13:59:56 TCCLIP]\u001B[0m\u001B[33m(1028797808.py 4)\u001B[0m: INFO Loaded checkpoint at epoch 10 with max accuracy 81.3\n"
     ]
    }
   ],
   "source": [
    "# Load checkpoint\n",
    "if config.resume:\n",
    "    epoch_loaded, max_accuray_loaded = load_checkpoint(config, model, None, None, logger, model_only=True)\n",
    "    logger.info(\n",
    "            f\"Loaded checkpoint at epoch {epoch_loaded} with max accuracy {max_accuray_loaded:.1f}\")"
   ]
  },
  {
   "cell_type": "markdown",
   "id": "3cc32b34",
   "metadata": {
    "pycharm": {
     "name": "#%% md\n"
    }
   },
   "source": [
    "### Video preprocessing pipeline"
   ]
  },
  {
   "cell_type": "code",
   "execution_count": 286,
   "id": "0f1f0416",
   "metadata": {
    "collapsed": true,
    "jupyter": {
     "outputs_hidden": true
    },
    "pycharm": {
     "name": "#%%\n"
    }
   },
   "outputs": [],
   "source": [
    "# Video preprocessing pipeline\n",
    "\n",
    "img_norm_cfg = dict(\n",
    "    mean=[123.675, 116.28, 103.53], std=[58.395, 57.12, 57.375], to_bgr=False)\n",
    "\n",
    "scale_resize = int(256 / 224 * config.input_size)\n",
    "collect_keys = ['imgs']\n",
    "\n",
    "val_pipeline = [\n",
    "    dict(type='DecordInit'),\n",
    "    dict(type='SampleFrames', clip_len=1, frame_interval=1, num_clips=config.num_frames, test_mode=True),\n",
    "    dict(type='DecordDecode'),\n",
    "    dict(type='Resize', scale=(-1, scale_resize)),\n",
    "    dict(type='CenterCrop', crop_size=config.input_size),\n",
    "    dict(type='Normalize', **img_norm_cfg),\n",
    "    dict(type='FormatShape', input_format='NCHW'),\n",
    "    dict(type='Collect', keys=collect_keys, meta_keys=[]),\n",
    "    dict(type='ToTensor', keys=['imgs'])\n",
    "]\n",
    "if config.num_crop == 3:\n",
    "    val_pipeline[3] = dict(type='Resize', scale=(-1, config.input_size))\n",
    "    val_pipeline[4] = dict(type='ThreeCrop', crop_size=config.input_size)\n",
    "if config.num_clip > 1:\n",
    "    val_pipeline[1] = dict(type='SampleFrames', clip_len=1, frame_interval=1, num_clips=config.num_frames,\n",
    "                           multiview=config.num_clip)\n",
    "val_pipeline = [p for p in val_pipeline if p is not None]\n",
    "\n",
    "pipeline = Compose(val_pipeline)\n",
    "\n",
    "dict_file = {'filename': video_path, 'tar': False, 'modality': 'RGB', 'start_index': 0}"
   ]
  },
  {
   "cell_type": "markdown",
   "id": "4845ffa5",
   "metadata": {
    "pycharm": {
     "name": "#%% md\n"
    }
   },
   "source": [
    "### TC-CLIP inference"
   ]
  },
  {
   "cell_type": "code",
   "execution_count": 288,
   "id": "d30fe299",
   "metadata": {
    "collapsed": true,
    "jupyter": {
     "outputs_hidden": true
    },
    "pycharm": {
     "name": "#%%\n"
    }
   },
   "outputs": [
    {
     "name": "stderr",
     "output_type": "stream",
     "text": [
      "C:\\Users\\anaba\\AppData\\Local\\Temp\\ipykernel_29076\\164853365.py:7: FutureWarning: `torch.cuda.amp.autocast(args...)` is deprecated. Please use `torch.amp.autocast('cuda', args...)` instead.\n",
      "  with torch.cuda.amp.autocast():\n"
     ]
    }
   ],
   "source": [
    "video = pipeline(dict_file)\n",
    "video_tensor = video['imgs'].unsqueeze(0).cuda().float() # Size: [1, T, 3, H, W]\n",
    "\n",
    "# Inference with TC-CLIP\n",
    "with torch.no_grad():\n",
    "    if config.use_torch_amp:\n",
    "        with torch.cuda.amp.autocast():\n",
    "            output = model(video_tensor)\n",
    "    else:\n",
    "        output = model(video_tensor)\n",
    "    \n",
    "    logits = output['logits']\n",
    "\n",
    "pred_index = logits.argmax(-1)"
   ]
  },
  {
   "cell_type": "code",
   "execution_count": 289,
   "id": "25d0b5a7",
   "metadata": {
    "collapsed": true,
    "jupyter": {
     "outputs_hidden": true
    },
    "pycharm": {
     "name": "#%%\n"
    }
   },
   "outputs": [
    {
     "name": "stdout",
     "output_type": "stream",
     "text": [
      "Logits: tensor([[23.5469, 23.1562, 22.9062, 23.4531, 20.9688, 24.6094, 22.6875, 25.9844]],\n",
      "       device='cuda:0', dtype=torch.float16)\n",
      "For video:  C:/Users/anaba/OneDrive/Desktop/Master Thesis/bias-action-recognition/bedlam/be_imagedata_download/categorized/20221011_1_250_batch01hand_closeup_suburb_d_mp4/walk/seq_000011.mp4\n",
      "Predicted action category is \"walking\"\n"
     ]
    }
   ],
   "source": [
    "print(f'Logits: {logits}')\n",
    "print(\"For video: \", video_path)\n",
    "print(f'Predicted action category is \"{class_names[pred_index]}\"')"
   ]
  },
  {
   "cell_type": "markdown",
   "id": "2bfc1915",
   "metadata": {
    "pycharm": {
     "name": "#%% md\n"
    }
   },
   "source": [
    "Acknowledgements: [ViFi-CLIP's repository](https://github.com/muzairkhattak/ViFi-CLIP)."
   ]
  },
  {
   "cell_type": "markdown",
   "id": "7423913e-a9c1-47e6-903d-8a79938639d7",
   "metadata": {
    "collapsed": true,
    "jupyter": {
     "outputs_hidden": true
    },
    "pycharm": {
     "name": "#%% md\n"
    }
   },
   "source": [
    "---\n",
    "## Running on a folder\n",
    "---"
   ]
  },
  {
   "cell_type": "code",
   "execution_count": 345,
   "id": "c20927dc-ab64-4cf3-9e3f-cea7b6344d87",
   "metadata": {
    "pycharm": {
     "name": "#%%\n"
    }
   },
   "outputs": [
    {
     "name": "stdout",
     "output_type": "stream",
     "text": [
      "\u001B[32m[03-05 15:55:28 TCCLIP]\u001B[0m\u001B[33m(1196747461.py 44)\u001B[0m: INFO working dir: C:/Users/anaba/OneDrive/Desktop/Master Thesis/bias-action-recognition/framework/models/tc-clip/weights/inference\n"
     ]
    }
   ],
   "source": [
    "import os\n",
    "from pathlib import Path\n",
    "import torch\n",
    "import numpy as np\n",
    "import matplotlib.pyplot as plt\n",
    "from sklearn.metrics import confusion_matrix\n",
    "import seaborn as sns\n",
    "from hydra import initialize, compose\n",
    "from omegaconf import OmegaConf\n",
    "from datasets.pipeline import Compose\n",
    "from trainers.build_trainer import returnCLIP\n",
    "from utils.logger import create_logger\n",
    "from utils.tools import load_checkpoint\n",
    "\n",
    "def extract_ground_truth(video_path):\n",
    "    \"\"\"Extracts the ground truth action from the video file path.\"\"\"\n",
    "    parts = Path(video_path).parts\n",
    "    for part in reversed(parts):\n",
    "        if part in class_names:\n",
    "            return part\n",
    "    return None\n",
    "\n",
    "# User-defined settings\n",
    "output = \"C:/Users/anaba/OneDrive/Desktop/Master Thesis/bias-action-recognition/framework/models/tc-clip/weights/inference\"\n",
    "tc_clip_model_path = \"C:/Users/anaba/OneDrive/Desktop/Master Thesis/bias-action-recognition/framework/models/tc-clip/weights/zero_shot_k400_tc_clip.pth\"\n",
    "class_names = ['dancing', 'jumping', 'kicking', 'kneeling', 'punching', 'running', 'throwing', 'walking']\n",
    "parent_folder = \"C:/Users/anaba/OneDrive/Desktop/Master Thesis/bias-action-recognition/bedlam/be_imagedata_download/categorized/\"\n",
    "\n",
    "# Initialize Hydra configs\n",
    "overrides = [\n",
    "    f\"output={output}\",\n",
    "    \"eval=test\",\n",
    "    \"trainer=tc_clip\",\n",
    "    f\"resume={tc_clip_model_path}\"\n",
    "]\n",
    "\n",
    "with initialize(version_base=None, config_path=\"configs\"):\n",
    "    config = compose(config_name=\"zero_shot.yaml\", overrides=overrides)\n",
    "\n",
    "OmegaConf.set_struct(config, False)\n",
    "Path(config.output).mkdir(parents=True, exist_ok=True)\n",
    "\n",
    "logger = create_logger(output_dir=config.output, dist_rank=0, name=f\"{config.trainer_name}\")\n",
    "logger.info(f\"working dir: {config.output}\")\n",
    "\n",
    "config.use_torch_amp = torch.__version__.startswith(\"2\")"
   ]
  },
  {
   "cell_type": "code",
   "execution_count": 347,
   "id": "9c4f1916-6b28-4bf8-9e4b-fde2465d07f5",
   "metadata": {
    "pycharm": {
     "name": "#%%\n"
    }
   },
   "outputs": [
    {
     "name": "stdout",
     "output_type": "stream",
     "text": [
      "\u001B[32m[03-05 15:55:29 TCCLIP]\u001B[0m\u001B[33m(build_trainer.py 56)\u001B[0m: INFO Loading CLIP (backbone: ViT-B/16)\n",
      "Using spatial positional embedding\n",
      "Weights not found for some missing keys:  ['visual.transformer.resblocks.1.attn.local_global_bias_table', 'visual.transformer.resblocks.2.attn.local_global_bias_table', 'visual.transformer.resblocks.3.attn.local_global_bias_table', 'visual.transformer.resblocks.4.attn.local_global_bias_table', 'visual.transformer.resblocks.5.attn.local_global_bias_table', 'visual.transformer.resblocks.6.attn.local_global_bias_table', 'visual.transformer.resblocks.7.attn.local_global_bias_table', 'visual.transformer.resblocks.8.attn.local_global_bias_table', 'visual.transformer.resblocks.9.attn.local_global_bias_table', 'visual.transformer.resblocks.10.attn.local_global_bias_table', 'visual.transformer.resblocks.11.attn.local_global_bias_table']\n",
      "\u001B[32m[03-05 15:55:33 TCCLIP]\u001B[0m\u001B[33m(build_trainer.py 59)\u001B[0m: INFO \u001B[34m\u001B[1mBuilding TCCLIP\u001B[0m\n",
      "\u001B[32m[03-05 15:55:33 TCCLIP]\u001B[0m\u001B[33m(tc_clip_prompt_learner.py 54)\u001B[0m: INFO Video-conditional prompt learning\n",
      "\u001B[32m[03-05 15:55:33 TCCLIP]\u001B[0m\u001B[33m(tc_clip_prompt_learner.py 55)\u001B[0m: INFO Initial context: \"a photo of a\"\n",
      "\u001B[32m[03-05 15:55:33 TCCLIP]\u001B[0m\u001B[33m(tc_clip_prompt_learner.py 56)\u001B[0m: INFO Number of learnable text prompt vectors: 4\n",
      "\u001B[32m[03-05 15:55:33 TCCLIP]\u001B[0m\u001B[33m(tc_clip_text_encoder.py 96)\u001B[0m: INFO Copy CLIP transformer 11th layer weights to prompt generation layer\n",
      "\u001B[32m[03-05 15:55:33 TCCLIP]\u001B[0m\u001B[33m(tc_clip_text_encoder.py 106)\u001B[0m: INFO Prompt generation level: [11]\n",
      "\u001B[32m[03-05 15:55:33 TCCLIP]\u001B[0m\u001B[33m(tc_clip_text_encoder.py 107)\u001B[0m: INFO Prompt generation stop grad: True\n",
      "\u001B[32m[03-05 15:55:33 TCCLIP]\u001B[0m\u001B[33m(tc_clip.py 27)\u001B[0m: INFO Using context tokens from vision layer [11]\n",
      "\u001B[32m[03-05 15:55:33 TCCLIP]\u001B[0m\u001B[33m(build_trainer.py 97)\u001B[0m: INFO ----------------------------------------------------\n",
      "\u001B[32m[03-05 15:55:33 TCCLIP]\u001B[0m\u001B[33m(build_trainer.py 98)\u001B[0m: INFO Freezed Parameters\n",
      "\u001B[32m[03-05 15:55:33 TCCLIP]\u001B[0m\u001B[33m(build_trainer.py 102)\u001B[0m: INFO ----------------------------------------------------\n",
      "\u001B[32m[03-05 15:55:33 TCCLIP]\u001B[0m\u001B[33m(build_trainer.py 105)\u001B[0m: INFO Number of Parameters: 127.5M\n",
      "\u001B[32m[03-05 15:55:34 TCCLIP]\u001B[0m\u001B[33m(tools.py 180)\u001B[0m: INFO ==============> Resuming from C:/Users/anaba/OneDrive/Desktop/Master Thesis/bias-action-recognition/framework/models/tc-clip/weights/zero_shot_k400_tc_clip.pth....................\n"
     ]
    },
    {
     "name": "stderr",
     "output_type": "stream",
     "text": [
      "C:\\Users\\anaba\\OneDrive\\Desktop\\Master Thesis\\bias-action-recognition\\framework\\models\\tc-clip\\utils\\tools.py:181: FutureWarning: You are using `torch.load` with `weights_only=False` (the current default value), which uses the default pickle module implicitly. It is possible to construct malicious pickle data which will execute arbitrary code during unpickling (See https://github.com/pytorch/pytorch/blob/main/SECURITY.md#untrusted-models for more details). In a future release, the default value for `weights_only` will be flipped to `True`. This limits the functions that could be executed during unpickling. Arbitrary objects will no longer be allowed to be loaded via this mode unless they are explicitly allowlisted by the user via `torch.serialization.add_safe_globals`. We recommend you start setting `weights_only=True` for any use case where you don't have full control of the loaded file. Please open an issue on GitHub for any issues related to this experimental feature.\n",
      "  checkpoint = torch.load(config.resume, map_location='cpu')\n"
     ]
    },
    {
     "name": "stdout",
     "output_type": "stream",
     "text": [
      "\u001B[32m[03-05 15:55:34 TCCLIP]\u001B[0m\u001B[33m(tools.py 208)\u001B[0m: INFO resume model: _IncompatibleKeys(missing_keys=['prompt_learner.token_prefix', 'prompt_learner.token_suffix'], unexpected_keys=[])\n",
      "\u001B[32m[03-05 15:55:34 TCCLIP]\u001B[0m\u001B[33m(tools.py 218)\u001B[0m: INFO => loaded successfully 'C:/Users/anaba/OneDrive/Desktop/Master Thesis/bias-action-recognition/framework/models/tc-clip/weights/zero_shot_k400_tc_clip.pth' (epoch 9)\n",
      "\u001B[32m[03-05 15:55:34 TCCLIP]\u001B[0m\u001B[33m(890561573.py 8)\u001B[0m: INFO Loaded checkpoint at epoch 10 with max accuracy 81.3\n"
     ]
    }
   ],
   "source": [
    "# Build model\n",
    "model = returnCLIP(config, logger, class_names)\n",
    "model.cuda()\n",
    "\n",
    "# Load checkpoint\n",
    "if config.resume:\n",
    "    epoch_loaded, max_accuracy_loaded = load_checkpoint(config, model, None, None, logger, model_only=True)\n",
    "    logger.info(f\"Loaded checkpoint at epoch {epoch_loaded} with max accuracy {max_accuracy_loaded:.1f}\")\n",
    "\n",
    "# Video preprocessing pipeline\n",
    "img_norm_cfg = dict(mean=[123.675, 116.28, 103.53], std=[58.395, 57.12, 57.375], to_bgr=False)\n",
    "scale_resize = int(256 / 224 * config.input_size)\n",
    "collect_keys = ['imgs']\n",
    "\n",
    "val_pipeline = [\n",
    "    dict(type='DecordInit'),\n",
    "    dict(type='SampleFrames', clip_len=1, frame_interval=1, num_clips=config.num_frames, test_mode=True),\n",
    "    dict(type='DecordDecode'),\n",
    "    dict(type='Resize', scale=(-1, scale_resize)),\n",
    "    dict(type='CenterCrop', crop_size=config.input_size),\n",
    "    dict(type='Normalize', **img_norm_cfg),\n",
    "    dict(type='FormatShape', input_format='NCHW'),\n",
    "    dict(type='Collect', keys=collect_keys, meta_keys=[]),\n",
    "    dict(type='ToTensor', keys=['imgs'])\n",
    "]\n",
    "\n",
    "pipeline = Compose(val_pipeline)"
   ]
  },
  {
   "cell_type": "code",
   "execution_count": 348,
   "id": "acfa3dd7-0f6a-4807-9fb2-546a506c2116",
   "metadata": {
    "pycharm": {
     "name": "#%%\n"
    }
   },
   "outputs": [
    {
     "name": "stderr",
     "output_type": "stream",
     "text": [
      "C:\\Users\\anaba\\AppData\\Local\\Temp\\ipykernel_29076\\2088387876.py:22: FutureWarning: `torch.cuda.amp.autocast(args...)` is deprecated. Please use `torch.amp.autocast('cuda', args...)` instead.\n",
      "  with torch.cuda.amp.autocast():\n"
     ]
    },
    {
     "name": "stdout",
     "output_type": "stream",
     "text": [
      "Video: C:/Users/anaba/OneDrive/Desktop/Master Thesis/bias-action-recognition/bedlam/be_imagedata_download/categorized/20221011_1_250_batch01hand_closeup_suburb_a_mp4\\dancing\\seq_000001.mp4 | Ground Truth: dancing | Predicted: dancing | ✔ MATCH\n",
      "Video: C:/Users/anaba/OneDrive/Desktop/Master Thesis/bias-action-recognition/bedlam/be_imagedata_download/categorized/20221011_1_250_batch01hand_closeup_suburb_a_mp4\\dancing\\seq_000005.mp4 | Ground Truth: dancing | Predicted: dancing | ✔ MATCH\n",
      "Video: C:/Users/anaba/OneDrive/Desktop/Master Thesis/bias-action-recognition/bedlam/be_imagedata_download/categorized/20221011_1_250_batch01hand_closeup_suburb_a_mp4\\dancing\\seq_000040.mp4 | Ground Truth: dancing | Predicted: dancing | ✔ MATCH\n",
      "Video: C:/Users/anaba/OneDrive/Desktop/Master Thesis/bias-action-recognition/bedlam/be_imagedata_download/categorized/20221011_1_250_batch01hand_closeup_suburb_a_mp4\\dancing\\seq_000042.mp4 | Ground Truth: dancing | Predicted: dancing | ✔ MATCH\n",
      "Video: C:/Users/anaba/OneDrive/Desktop/Master Thesis/bias-action-recognition/bedlam/be_imagedata_download/categorized/20221011_1_250_batch01hand_closeup_suburb_a_mp4\\dancing\\seq_000043.mp4 | Ground Truth: dancing | Predicted: dancing | ✔ MATCH\n",
      "Video: C:/Users/anaba/OneDrive/Desktop/Master Thesis/bias-action-recognition/bedlam/be_imagedata_download/categorized/20221011_1_250_batch01hand_closeup_suburb_a_mp4\\dancing\\seq_000068.mp4 | Ground Truth: dancing | Predicted: dancing | ✔ MATCH\n",
      "Video: C:/Users/anaba/OneDrive/Desktop/Master Thesis/bias-action-recognition/bedlam/be_imagedata_download/categorized/20221011_1_250_batch01hand_closeup_suburb_a_mp4\\dancing\\seq_000076.mp4 | Ground Truth: dancing | Predicted: dancing | ✔ MATCH\n",
      "Video: C:/Users/anaba/OneDrive/Desktop/Master Thesis/bias-action-recognition/bedlam/be_imagedata_download/categorized/20221011_1_250_batch01hand_closeup_suburb_a_mp4\\dancing\\seq_000104.mp4 | Ground Truth: dancing | Predicted: dancing | ✔ MATCH\n",
      "Video: C:/Users/anaba/OneDrive/Desktop/Master Thesis/bias-action-recognition/bedlam/be_imagedata_download/categorized/20221011_1_250_batch01hand_closeup_suburb_a_mp4\\dancing\\seq_000126.mp4 | Ground Truth: dancing | Predicted: dancing | ✔ MATCH\n",
      "Video: C:/Users/anaba/OneDrive/Desktop/Master Thesis/bias-action-recognition/bedlam/be_imagedata_download/categorized/20221011_1_250_batch01hand_closeup_suburb_a_mp4\\dancing\\seq_000135.mp4 | Ground Truth: dancing | Predicted: dancing | ✔ MATCH\n",
      "Video: C:/Users/anaba/OneDrive/Desktop/Master Thesis/bias-action-recognition/bedlam/be_imagedata_download/categorized/20221011_1_250_batch01hand_closeup_suburb_a_mp4\\jumping\\seq_000030.mp4 | Ground Truth: jumping | Predicted: dancing | ✘ MISMATCH\n",
      "Video: C:/Users/anaba/OneDrive/Desktop/Master Thesis/bias-action-recognition/bedlam/be_imagedata_download/categorized/20221011_1_250_batch01hand_closeup_suburb_a_mp4\\jumping\\seq_000051.mp4 | Ground Truth: jumping | Predicted: kneeling | ✘ MISMATCH\n",
      "Video: C:/Users/anaba/OneDrive/Desktop/Master Thesis/bias-action-recognition/bedlam/be_imagedata_download/categorized/20221011_1_250_batch01hand_closeup_suburb_a_mp4\\jumping\\seq_000083.mp4 | Ground Truth: jumping | Predicted: dancing | ✘ MISMATCH\n",
      "Video: C:/Users/anaba/OneDrive/Desktop/Master Thesis/bias-action-recognition/bedlam/be_imagedata_download/categorized/20221011_1_250_batch01hand_closeup_suburb_a_mp4\\jumping\\seq_000093.mp4 | Ground Truth: jumping | Predicted: dancing | ✘ MISMATCH\n",
      "Video: C:/Users/anaba/OneDrive/Desktop/Master Thesis/bias-action-recognition/bedlam/be_imagedata_download/categorized/20221011_1_250_batch01hand_closeup_suburb_a_mp4\\jumping\\seq_000096.mp4 | Ground Truth: jumping | Predicted: dancing | ✘ MISMATCH\n",
      "Video: C:/Users/anaba/OneDrive/Desktop/Master Thesis/bias-action-recognition/bedlam/be_imagedata_download/categorized/20221011_1_250_batch01hand_closeup_suburb_a_mp4\\kicking\\seq_000014.mp4 | Ground Truth: kicking | Predicted: dancing | ✘ MISMATCH\n",
      "Video: C:/Users/anaba/OneDrive/Desktop/Master Thesis/bias-action-recognition/bedlam/be_imagedata_download/categorized/20221011_1_250_batch01hand_closeup_suburb_a_mp4\\kicking\\seq_000062.mp4 | Ground Truth: kicking | Predicted: dancing | ✘ MISMATCH\n",
      "Video: C:/Users/anaba/OneDrive/Desktop/Master Thesis/bias-action-recognition/bedlam/be_imagedata_download/categorized/20221011_1_250_batch01hand_closeup_suburb_a_mp4\\kicking\\seq_000064.mp4 | Ground Truth: kicking | Predicted: walking | ✘ MISMATCH\n",
      "Video: C:/Users/anaba/OneDrive/Desktop/Master Thesis/bias-action-recognition/bedlam/be_imagedata_download/categorized/20221011_1_250_batch01hand_closeup_suburb_a_mp4\\kicking\\seq_000112.mp4 | Ground Truth: kicking | Predicted: dancing | ✘ MISMATCH\n",
      "Video: C:/Users/anaba/OneDrive/Desktop/Master Thesis/bias-action-recognition/bedlam/be_imagedata_download/categorized/20221011_1_250_batch01hand_closeup_suburb_a_mp4\\kneeling\\seq_000000.mp4 | Ground Truth: kneeling | Predicted: dancing | ✘ MISMATCH\n",
      "Video: C:/Users/anaba/OneDrive/Desktop/Master Thesis/bias-action-recognition/bedlam/be_imagedata_download/categorized/20221011_1_250_batch01hand_closeup_suburb_a_mp4\\kneeling\\seq_000025.mp4 | Ground Truth: kneeling | Predicted: kneeling | ✔ MATCH\n",
      "Video: C:/Users/anaba/OneDrive/Desktop/Master Thesis/bias-action-recognition/bedlam/be_imagedata_download/categorized/20221011_1_250_batch01hand_closeup_suburb_a_mp4\\kneeling\\seq_000078.mp4 | Ground Truth: kneeling | Predicted: kneeling | ✔ MATCH\n",
      "Video: C:/Users/anaba/OneDrive/Desktop/Master Thesis/bias-action-recognition/bedlam/be_imagedata_download/categorized/20221011_1_250_batch01hand_closeup_suburb_a_mp4\\kneeling\\seq_000084.mp4 | Ground Truth: kneeling | Predicted: dancing | ✘ MISMATCH\n",
      "Video: C:/Users/anaba/OneDrive/Desktop/Master Thesis/bias-action-recognition/bedlam/be_imagedata_download/categorized/20221011_1_250_batch01hand_closeup_suburb_a_mp4\\kneeling\\seq_000109.mp4 | Ground Truth: kneeling | Predicted: kneeling | ✔ MATCH\n",
      "Video: C:/Users/anaba/OneDrive/Desktop/Master Thesis/bias-action-recognition/bedlam/be_imagedata_download/categorized/20221011_1_250_batch01hand_closeup_suburb_a_mp4\\punching\\seq_000017.mp4 | Ground Truth: punching | Predicted: dancing | ✘ MISMATCH\n",
      "Video: C:/Users/anaba/OneDrive/Desktop/Master Thesis/bias-action-recognition/bedlam/be_imagedata_download/categorized/20221011_1_250_batch01hand_closeup_suburb_a_mp4\\punching\\seq_000077.mp4 | Ground Truth: punching | Predicted: dancing | ✘ MISMATCH\n",
      "Video: C:/Users/anaba/OneDrive/Desktop/Master Thesis/bias-action-recognition/bedlam/be_imagedata_download/categorized/20221011_1_250_batch01hand_closeup_suburb_a_mp4\\running\\seq_000009.mp4 | Ground Truth: running | Predicted: dancing | ✘ MISMATCH\n",
      "Video: C:/Users/anaba/OneDrive/Desktop/Master Thesis/bias-action-recognition/bedlam/be_imagedata_download/categorized/20221011_1_250_batch01hand_closeup_suburb_a_mp4\\running\\seq_000010.mp4 | Ground Truth: running | Predicted: dancing | ✘ MISMATCH\n",
      "Video: C:/Users/anaba/OneDrive/Desktop/Master Thesis/bias-action-recognition/bedlam/be_imagedata_download/categorized/20221011_1_250_batch01hand_closeup_suburb_a_mp4\\running\\seq_000026.mp4 | Ground Truth: running | Predicted: dancing | ✘ MISMATCH\n",
      "Video: C:/Users/anaba/OneDrive/Desktop/Master Thesis/bias-action-recognition/bedlam/be_imagedata_download/categorized/20221011_1_250_batch01hand_closeup_suburb_a_mp4\\running\\seq_000067.mp4 | Ground Truth: running | Predicted: dancing | ✘ MISMATCH\n",
      "Video: C:/Users/anaba/OneDrive/Desktop/Master Thesis/bias-action-recognition/bedlam/be_imagedata_download/categorized/20221011_1_250_batch01hand_closeup_suburb_a_mp4\\throwing\\seq_000130.mp4 | Ground Truth: throwing | Predicted: dancing | ✘ MISMATCH\n",
      "Video: C:/Users/anaba/OneDrive/Desktop/Master Thesis/bias-action-recognition/bedlam/be_imagedata_download/categorized/20221011_1_250_batch01hand_closeup_suburb_a_mp4\\walking\\seq_000034.mp4 | Ground Truth: walking | Predicted: dancing | ✘ MISMATCH\n",
      "Video: C:/Users/anaba/OneDrive/Desktop/Master Thesis/bias-action-recognition/bedlam/be_imagedata_download/categorized/20221011_1_250_batch01hand_closeup_suburb_a_mp4\\walking\\seq_000045.mp4 | Ground Truth: walking | Predicted: dancing | ✘ MISMATCH\n",
      "Video: C:/Users/anaba/OneDrive/Desktop/Master Thesis/bias-action-recognition/bedlam/be_imagedata_download/categorized/20221011_1_250_batch01hand_closeup_suburb_a_mp4\\walking\\seq_000066.mp4 | Ground Truth: walking | Predicted: dancing | ✘ MISMATCH\n",
      "Video: C:/Users/anaba/OneDrive/Desktop/Master Thesis/bias-action-recognition/bedlam/be_imagedata_download/categorized/20221011_1_250_batch01hand_closeup_suburb_a_mp4\\walking\\seq_000087.mp4 | Ground Truth: walking | Predicted: dancing | ✘ MISMATCH\n",
      "Video: C:/Users/anaba/OneDrive/Desktop/Master Thesis/bias-action-recognition/bedlam/be_imagedata_download/categorized/20221011_1_250_batch01hand_closeup_suburb_d_mp4\\dancing\\seq_000111.mp4 | Ground Truth: dancing | Predicted: dancing | ✔ MATCH\n",
      "Video: C:/Users/anaba/OneDrive/Desktop/Master Thesis/bias-action-recognition/bedlam/be_imagedata_download/categorized/20221011_1_250_batch01hand_closeup_suburb_d_mp4\\jumping\\seq_000002.mp4 | Ground Truth: jumping | Predicted: walking | ✘ MISMATCH\n",
      "Video: C:/Users/anaba/OneDrive/Desktop/Master Thesis/bias-action-recognition/bedlam/be_imagedata_download/categorized/20221011_1_250_batch01hand_closeup_suburb_d_mp4\\jumping\\seq_000022.mp4 | Ground Truth: jumping | Predicted: running | ✘ MISMATCH\n",
      "Video: C:/Users/anaba/OneDrive/Desktop/Master Thesis/bias-action-recognition/bedlam/be_imagedata_download/categorized/20221011_1_250_batch01hand_closeup_suburb_d_mp4\\jumping\\seq_000032.mp4 | Ground Truth: jumping | Predicted: walking | ✘ MISMATCH\n",
      "Video: C:/Users/anaba/OneDrive/Desktop/Master Thesis/bias-action-recognition/bedlam/be_imagedata_download/categorized/20221011_1_250_batch01hand_closeup_suburb_d_mp4\\jumping\\seq_000083.mp4 | Ground Truth: jumping | Predicted: dancing | ✘ MISMATCH\n",
      "Video: C:/Users/anaba/OneDrive/Desktop/Master Thesis/bias-action-recognition/bedlam/be_imagedata_download/categorized/20221011_1_250_batch01hand_closeup_suburb_d_mp4\\jumping\\seq_000084.mp4 | Ground Truth: jumping | Predicted: kneeling | ✘ MISMATCH\n",
      "Video: C:/Users/anaba/OneDrive/Desktop/Master Thesis/bias-action-recognition/bedlam/be_imagedata_download/categorized/20221011_1_250_batch01hand_closeup_suburb_d_mp4\\jumping\\seq_000088.mp4 | Ground Truth: jumping | Predicted: walking | ✘ MISMATCH\n",
      "Video: C:/Users/anaba/OneDrive/Desktop/Master Thesis/bias-action-recognition/bedlam/be_imagedata_download/categorized/20221011_1_250_batch01hand_closeup_suburb_d_mp4\\jumping\\seq_000099.mp4 | Ground Truth: jumping | Predicted: kneeling | ✘ MISMATCH\n",
      "Video: C:/Users/anaba/OneDrive/Desktop/Master Thesis/bias-action-recognition/bedlam/be_imagedata_download/categorized/20221011_1_250_batch01hand_closeup_suburb_d_mp4\\jumping\\seq_000109.mp4 | Ground Truth: jumping | Predicted: walking | ✘ MISMATCH\n",
      "Video: C:/Users/anaba/OneDrive/Desktop/Master Thesis/bias-action-recognition/bedlam/be_imagedata_download/categorized/20221011_1_250_batch01hand_closeup_suburb_d_mp4\\jumping\\seq_000110.mp4 | Ground Truth: jumping | Predicted: dancing | ✘ MISMATCH\n",
      "Video: C:/Users/anaba/OneDrive/Desktop/Master Thesis/bias-action-recognition/bedlam/be_imagedata_download/categorized/20221011_1_250_batch01hand_closeup_suburb_d_mp4\\jumping\\seq_000120.mp4 | Ground Truth: jumping | Predicted: dancing | ✘ MISMATCH\n",
      "Video: C:/Users/anaba/OneDrive/Desktop/Master Thesis/bias-action-recognition/bedlam/be_imagedata_download/categorized/20221011_1_250_batch01hand_closeup_suburb_d_mp4\\jumping\\seq_000121.mp4 | Ground Truth: jumping | Predicted: walking | ✘ MISMATCH\n",
      "Video: C:/Users/anaba/OneDrive/Desktop/Master Thesis/bias-action-recognition/bedlam/be_imagedata_download/categorized/20221011_1_250_batch01hand_closeup_suburb_d_mp4\\kicking\\seq_000024.mp4 | Ground Truth: kicking | Predicted: walking | ✘ MISMATCH\n",
      "Video: C:/Users/anaba/OneDrive/Desktop/Master Thesis/bias-action-recognition/bedlam/be_imagedata_download/categorized/20221011_1_250_batch01hand_closeup_suburb_d_mp4\\kicking\\seq_000045.mp4 | Ground Truth: kicking | Predicted: walking | ✘ MISMATCH\n",
      "Video: C:/Users/anaba/OneDrive/Desktop/Master Thesis/bias-action-recognition/bedlam/be_imagedata_download/categorized/20221011_1_250_batch01hand_closeup_suburb_d_mp4\\kicking\\seq_000097.mp4 | Ground Truth: kicking | Predicted: dancing | ✘ MISMATCH\n",
      "Video: C:/Users/anaba/OneDrive/Desktop/Master Thesis/bias-action-recognition/bedlam/be_imagedata_download/categorized/20221011_1_250_batch01hand_closeup_suburb_d_mp4\\kicking\\seq_000127.mp4 | Ground Truth: kicking | Predicted: walking | ✘ MISMATCH\n",
      "Video: C:/Users/anaba/OneDrive/Desktop/Master Thesis/bias-action-recognition/bedlam/be_imagedata_download/categorized/20221011_1_250_batch01hand_closeup_suburb_d_mp4\\punching\\seq_000131.mp4 | Ground Truth: punching | Predicted: dancing | ✘ MISMATCH\n",
      "Video: C:/Users/anaba/OneDrive/Desktop/Master Thesis/bias-action-recognition/bedlam/be_imagedata_download/categorized/20221011_1_250_batch01hand_closeup_suburb_d_mp4\\running\\seq_000007.mp4 | Ground Truth: running | Predicted: walking | ✘ MISMATCH\n",
      "Video: C:/Users/anaba/OneDrive/Desktop/Master Thesis/bias-action-recognition/bedlam/be_imagedata_download/categorized/20221011_1_250_batch01hand_closeup_suburb_d_mp4\\running\\seq_000008.mp4 | Ground Truth: running | Predicted: running | ✔ MATCH\n",
      "Video: C:/Users/anaba/OneDrive/Desktop/Master Thesis/bias-action-recognition/bedlam/be_imagedata_download/categorized/20221011_1_250_batch01hand_closeup_suburb_d_mp4\\running\\seq_000128.mp4 | Ground Truth: running | Predicted: running | ✔ MATCH\n",
      "Video: C:/Users/anaba/OneDrive/Desktop/Master Thesis/bias-action-recognition/bedlam/be_imagedata_download/categorized/20221011_1_250_batch01hand_closeup_suburb_d_mp4\\throwing\\seq_000036.mp4 | Ground Truth: throwing | Predicted: dancing | ✘ MISMATCH\n",
      "Video: C:/Users/anaba/OneDrive/Desktop/Master Thesis/bias-action-recognition/bedlam/be_imagedata_download/categorized/20221011_1_250_batch01hand_closeup_suburb_d_mp4\\throwing\\seq_000057.mp4 | Ground Truth: throwing | Predicted: throwing | ✔ MATCH\n",
      "Video: C:/Users/anaba/OneDrive/Desktop/Master Thesis/bias-action-recognition/bedlam/be_imagedata_download/categorized/20221011_1_250_batch01hand_closeup_suburb_d_mp4\\walking\\seq_000001.mp4 | Ground Truth: walking | Predicted: walking | ✔ MATCH\n",
      "Video: C:/Users/anaba/OneDrive/Desktop/Master Thesis/bias-action-recognition/bedlam/be_imagedata_download/categorized/20221011_1_250_batch01hand_closeup_suburb_d_mp4\\walking\\seq_000011.mp4 | Ground Truth: walking | Predicted: walking | ✔ MATCH\n",
      "Video: C:/Users/anaba/OneDrive/Desktop/Master Thesis/bias-action-recognition/bedlam/be_imagedata_download/categorized/20221011_1_250_batch01hand_closeup_suburb_d_mp4\\walking\\seq_000013.mp4 | Ground Truth: walking | Predicted: walking | ✔ MATCH\n",
      "Video: C:/Users/anaba/OneDrive/Desktop/Master Thesis/bias-action-recognition/bedlam/be_imagedata_download/categorized/20221011_1_250_batch01hand_closeup_suburb_d_mp4\\walking\\seq_000025.mp4 | Ground Truth: walking | Predicted: walking | ✔ MATCH\n",
      "Video: C:/Users/anaba/OneDrive/Desktop/Master Thesis/bias-action-recognition/bedlam/be_imagedata_download/categorized/20221011_1_250_batch01hand_closeup_suburb_d_mp4\\walking\\seq_000026.mp4 | Ground Truth: walking | Predicted: walking | ✔ MATCH\n",
      "Video: C:/Users/anaba/OneDrive/Desktop/Master Thesis/bias-action-recognition/bedlam/be_imagedata_download/categorized/20221011_1_250_batch01hand_closeup_suburb_d_mp4\\walking\\seq_000034.mp4 | Ground Truth: walking | Predicted: walking | ✔ MATCH\n",
      "Video: C:/Users/anaba/OneDrive/Desktop/Master Thesis/bias-action-recognition/bedlam/be_imagedata_download/categorized/20221011_1_250_batch01hand_closeup_suburb_d_mp4\\walking\\seq_000043.mp4 | Ground Truth: walking | Predicted: walking | ✔ MATCH\n",
      "Video: C:/Users/anaba/OneDrive/Desktop/Master Thesis/bias-action-recognition/bedlam/be_imagedata_download/categorized/20221011_1_250_batch01hand_closeup_suburb_d_mp4\\walking\\seq_000063.mp4 | Ground Truth: walking | Predicted: running | ✘ MISMATCH\n",
      "Video: C:/Users/anaba/OneDrive/Desktop/Master Thesis/bias-action-recognition/bedlam/be_imagedata_download/categorized/20221011_1_250_batch01hand_closeup_suburb_d_mp4\\walking\\seq_000077.mp4 | Ground Truth: walking | Predicted: walking | ✔ MATCH\n",
      "Video: C:/Users/anaba/OneDrive/Desktop/Master Thesis/bias-action-recognition/bedlam/be_imagedata_download/categorized/20221011_1_250_batch01hand_closeup_suburb_d_mp4\\walking\\seq_000092.mp4 | Ground Truth: walking | Predicted: walking | ✔ MATCH\n",
      "Video: C:/Users/anaba/OneDrive/Desktop/Master Thesis/bias-action-recognition/bedlam/be_imagedata_download/categorized/20221011_1_250_batch01hand_closeup_suburb_d_mp4\\walking\\seq_000102.mp4 | Ground Truth: walking | Predicted: walking | ✔ MATCH\n",
      "Video: C:/Users/anaba/OneDrive/Desktop/Master Thesis/bias-action-recognition/bedlam/be_imagedata_download/categorized/20221011_1_250_batch01hand_closeup_suburb_d_mp4\\walking\\seq_000107.mp4 | Ground Truth: walking | Predicted: running | ✘ MISMATCH\n",
      "Video: C:/Users/anaba/OneDrive/Desktop/Master Thesis/bias-action-recognition/bedlam/be_imagedata_download/categorized/20221011_1_250_batch01hand_closeup_suburb_d_mp4\\walking\\seq_000129.mp4 | Ground Truth: walking | Predicted: walking | ✔ MATCH\n",
      "Video: C:/Users/anaba/OneDrive/Desktop/Master Thesis/bias-action-recognition/bedlam/be_imagedata_download/categorized/20221012_1_500_batch01hand_closeup_highSchoolGym_mp4\\dancing\\seq_000031.mp4 | Ground Truth: dancing | Predicted: dancing | ✔ MATCH\n",
      "Video: C:/Users/anaba/OneDrive/Desktop/Master Thesis/bias-action-recognition/bedlam/be_imagedata_download/categorized/20221012_1_500_batch01hand_closeup_highSchoolGym_mp4\\dancing\\seq_000071.mp4 | Ground Truth: dancing | Predicted: dancing | ✔ MATCH\n",
      "Video: C:/Users/anaba/OneDrive/Desktop/Master Thesis/bias-action-recognition/bedlam/be_imagedata_download/categorized/20221012_1_500_batch01hand_closeup_highSchoolGym_mp4\\dancing\\seq_000083.mp4 | Ground Truth: dancing | Predicted: dancing | ✔ MATCH\n",
      "Video: C:/Users/anaba/OneDrive/Desktop/Master Thesis/bias-action-recognition/bedlam/be_imagedata_download/categorized/20221012_1_500_batch01hand_closeup_highSchoolGym_mp4\\dancing\\seq_000096.mp4 | Ground Truth: dancing | Predicted: kneeling | ✘ MISMATCH\n",
      "Video: C:/Users/anaba/OneDrive/Desktop/Master Thesis/bias-action-recognition/bedlam/be_imagedata_download/categorized/20221012_1_500_batch01hand_closeup_highSchoolGym_mp4\\dancing\\seq_000105.mp4 | Ground Truth: dancing | Predicted: throwing | ✘ MISMATCH\n",
      "Video: C:/Users/anaba/OneDrive/Desktop/Master Thesis/bias-action-recognition/bedlam/be_imagedata_download/categorized/20221012_1_500_batch01hand_closeup_highSchoolGym_mp4\\dancing\\seq_000133.mp4 | Ground Truth: dancing | Predicted: dancing | ✔ MATCH\n",
      "Video: C:/Users/anaba/OneDrive/Desktop/Master Thesis/bias-action-recognition/bedlam/be_imagedata_download/categorized/20221012_1_500_batch01hand_closeup_highSchoolGym_mp4\\jumping\\seq_000000.mp4 | Ground Truth: jumping | Predicted: dancing | ✘ MISMATCH\n",
      "Video: C:/Users/anaba/OneDrive/Desktop/Master Thesis/bias-action-recognition/bedlam/be_imagedata_download/categorized/20221012_1_500_batch01hand_closeup_highSchoolGym_mp4\\jumping\\seq_000005.mp4 | Ground Truth: jumping | Predicted: kneeling | ✘ MISMATCH\n",
      "Video: C:/Users/anaba/OneDrive/Desktop/Master Thesis/bias-action-recognition/bedlam/be_imagedata_download/categorized/20221012_1_500_batch01hand_closeup_highSchoolGym_mp4\\jumping\\seq_000014.mp4 | Ground Truth: jumping | Predicted: dancing | ✘ MISMATCH\n",
      "Video: C:/Users/anaba/OneDrive/Desktop/Master Thesis/bias-action-recognition/bedlam/be_imagedata_download/categorized/20221012_1_500_batch01hand_closeup_highSchoolGym_mp4\\jumping\\seq_000054.mp4 | Ground Truth: jumping | Predicted: throwing | ✘ MISMATCH\n",
      "Video: C:/Users/anaba/OneDrive/Desktop/Master Thesis/bias-action-recognition/bedlam/be_imagedata_download/categorized/20221012_1_500_batch01hand_closeup_highSchoolGym_mp4\\jumping\\seq_000066.mp4 | Ground Truth: jumping | Predicted: dancing | ✘ MISMATCH\n",
      "Video: C:/Users/anaba/OneDrive/Desktop/Master Thesis/bias-action-recognition/bedlam/be_imagedata_download/categorized/20221012_1_500_batch01hand_closeup_highSchoolGym_mp4\\jumping\\seq_000077.mp4 | Ground Truth: jumping | Predicted: throwing | ✘ MISMATCH\n",
      "Video: C:/Users/anaba/OneDrive/Desktop/Master Thesis/bias-action-recognition/bedlam/be_imagedata_download/categorized/20221012_1_500_batch01hand_closeup_highSchoolGym_mp4\\jumping\\seq_000078.mp4 | Ground Truth: jumping | Predicted: dancing | ✘ MISMATCH\n",
      "Video: C:/Users/anaba/OneDrive/Desktop/Master Thesis/bias-action-recognition/bedlam/be_imagedata_download/categorized/20221012_1_500_batch01hand_closeup_highSchoolGym_mp4\\jumping\\seq_000080.mp4 | Ground Truth: jumping | Predicted: dancing | ✘ MISMATCH\n",
      "Video: C:/Users/anaba/OneDrive/Desktop/Master Thesis/bias-action-recognition/bedlam/be_imagedata_download/categorized/20221012_1_500_batch01hand_closeup_highSchoolGym_mp4\\jumping\\seq_000090.mp4 | Ground Truth: jumping | Predicted: dancing | ✘ MISMATCH\n",
      "Video: C:/Users/anaba/OneDrive/Desktop/Master Thesis/bias-action-recognition/bedlam/be_imagedata_download/categorized/20221012_1_500_batch01hand_closeup_highSchoolGym_mp4\\jumping\\seq_000094.mp4 | Ground Truth: jumping | Predicted: dancing | ✘ MISMATCH\n",
      "Video: C:/Users/anaba/OneDrive/Desktop/Master Thesis/bias-action-recognition/bedlam/be_imagedata_download/categorized/20221012_1_500_batch01hand_closeup_highSchoolGym_mp4\\jumping\\seq_000108.mp4 | Ground Truth: jumping | Predicted: kneeling | ✘ MISMATCH\n",
      "Video: C:/Users/anaba/OneDrive/Desktop/Master Thesis/bias-action-recognition/bedlam/be_imagedata_download/categorized/20221012_1_500_batch01hand_closeup_highSchoolGym_mp4\\kicking\\seq_000017.mp4 | Ground Truth: kicking | Predicted: dancing | ✘ MISMATCH\n",
      "Video: C:/Users/anaba/OneDrive/Desktop/Master Thesis/bias-action-recognition/bedlam/be_imagedata_download/categorized/20221012_1_500_batch01hand_closeup_highSchoolGym_mp4\\kicking\\seq_000026.mp4 | Ground Truth: kicking | Predicted: kicking | ✔ MATCH\n",
      "Video: C:/Users/anaba/OneDrive/Desktop/Master Thesis/bias-action-recognition/bedlam/be_imagedata_download/categorized/20221012_1_500_batch01hand_closeup_highSchoolGym_mp4\\kicking\\seq_000061.mp4 | Ground Truth: kicking | Predicted: dancing | ✘ MISMATCH\n",
      "Video: C:/Users/anaba/OneDrive/Desktop/Master Thesis/bias-action-recognition/bedlam/be_imagedata_download/categorized/20221012_1_500_batch01hand_closeup_highSchoolGym_mp4\\kicking\\seq_000062.mp4 | Ground Truth: kicking | Predicted: dancing | ✘ MISMATCH\n",
      "Video: C:/Users/anaba/OneDrive/Desktop/Master Thesis/bias-action-recognition/bedlam/be_imagedata_download/categorized/20221012_1_500_batch01hand_closeup_highSchoolGym_mp4\\kicking\\seq_000088.mp4 | Ground Truth: kicking | Predicted: kneeling | ✘ MISMATCH\n",
      "Video: C:/Users/anaba/OneDrive/Desktop/Master Thesis/bias-action-recognition/bedlam/be_imagedata_download/categorized/20221012_1_500_batch01hand_closeup_highSchoolGym_mp4\\kicking\\seq_000098.mp4 | Ground Truth: kicking | Predicted: dancing | ✘ MISMATCH\n",
      "Video: C:/Users/anaba/OneDrive/Desktop/Master Thesis/bias-action-recognition/bedlam/be_imagedata_download/categorized/20221012_1_500_batch01hand_closeup_highSchoolGym_mp4\\punching\\seq_000008.mp4 | Ground Truth: punching | Predicted: throwing | ✘ MISMATCH\n",
      "Video: C:/Users/anaba/OneDrive/Desktop/Master Thesis/bias-action-recognition/bedlam/be_imagedata_download/categorized/20221012_1_500_batch01hand_closeup_highSchoolGym_mp4\\punching\\seq_000093.mp4 | Ground Truth: punching | Predicted: kneeling | ✘ MISMATCH\n",
      "Video: C:/Users/anaba/OneDrive/Desktop/Master Thesis/bias-action-recognition/bedlam/be_imagedata_download/categorized/20221012_1_500_batch01hand_closeup_highSchoolGym_mp4\\punching\\seq_000097.mp4 | Ground Truth: punching | Predicted: throwing | ✘ MISMATCH\n",
      "Video: C:/Users/anaba/OneDrive/Desktop/Master Thesis/bias-action-recognition/bedlam/be_imagedata_download/categorized/20221012_1_500_batch01hand_closeup_highSchoolGym_mp4\\running\\seq_000006.mp4 | Ground Truth: running | Predicted: kneeling | ✘ MISMATCH\n",
      "Video: C:/Users/anaba/OneDrive/Desktop/Master Thesis/bias-action-recognition/bedlam/be_imagedata_download/categorized/20221012_1_500_batch01hand_closeup_highSchoolGym_mp4\\running\\seq_000063.mp4 | Ground Truth: running | Predicted: dancing | ✘ MISMATCH\n",
      "Video: C:/Users/anaba/OneDrive/Desktop/Master Thesis/bias-action-recognition/bedlam/be_imagedata_download/categorized/20221012_1_500_batch01hand_closeup_highSchoolGym_mp4\\running\\seq_000065.mp4 | Ground Truth: running | Predicted: kneeling | ✘ MISMATCH\n",
      "Video: C:/Users/anaba/OneDrive/Desktop/Master Thesis/bias-action-recognition/bedlam/be_imagedata_download/categorized/20221012_1_500_batch01hand_closeup_highSchoolGym_mp4\\running\\seq_000073.mp4 | Ground Truth: running | Predicted: dancing | ✘ MISMATCH\n",
      "Video: C:/Users/anaba/OneDrive/Desktop/Master Thesis/bias-action-recognition/bedlam/be_imagedata_download/categorized/20221012_1_500_batch01hand_closeup_highSchoolGym_mp4\\throwing\\seq_000041.mp4 | Ground Truth: throwing | Predicted: dancing | ✘ MISMATCH\n",
      "Video: C:/Users/anaba/OneDrive/Desktop/Master Thesis/bias-action-recognition/bedlam/be_imagedata_download/categorized/20221012_1_500_batch01hand_closeup_highSchoolGym_mp4\\throwing\\seq_000091.mp4 | Ground Truth: throwing | Predicted: kneeling | ✘ MISMATCH\n",
      "Video: C:/Users/anaba/OneDrive/Desktop/Master Thesis/bias-action-recognition/bedlam/be_imagedata_download/categorized/20221012_1_500_batch01hand_closeup_highSchoolGym_mp4\\throwing\\seq_000132.mp4 | Ground Truth: throwing | Predicted: dancing | ✘ MISMATCH\n",
      "Video: C:/Users/anaba/OneDrive/Desktop/Master Thesis/bias-action-recognition/bedlam/be_imagedata_download/categorized/20221012_1_500_batch01hand_closeup_highSchoolGym_mp4\\walking\\seq_000010.mp4 | Ground Truth: walking | Predicted: kneeling | ✘ MISMATCH\n",
      "Video: C:/Users/anaba/OneDrive/Desktop/Master Thesis/bias-action-recognition/bedlam/be_imagedata_download/categorized/20221012_1_500_batch01hand_closeup_highSchoolGym_mp4\\walking\\seq_000021.mp4 | Ground Truth: walking | Predicted: kneeling | ✘ MISMATCH\n",
      "Video: C:/Users/anaba/OneDrive/Desktop/Master Thesis/bias-action-recognition/bedlam/be_imagedata_download/categorized/20221012_1_500_batch01hand_closeup_highSchoolGym_mp4\\walking\\seq_000027.mp4 | Ground Truth: walking | Predicted: kneeling | ✘ MISMATCH\n",
      "Video: C:/Users/anaba/OneDrive/Desktop/Master Thesis/bias-action-recognition/bedlam/be_imagedata_download/categorized/20221012_1_500_batch01hand_closeup_highSchoolGym_mp4\\walking\\seq_000035.mp4 | Ground Truth: walking | Predicted: kneeling | ✘ MISMATCH\n",
      "Video: C:/Users/anaba/OneDrive/Desktop/Master Thesis/bias-action-recognition/bedlam/be_imagedata_download/categorized/20221012_1_500_batch01hand_closeup_highSchoolGym_mp4\\walking\\seq_000038.mp4 | Ground Truth: walking | Predicted: dancing | ✘ MISMATCH\n",
      "Video: C:/Users/anaba/OneDrive/Desktop/Master Thesis/bias-action-recognition/bedlam/be_imagedata_download/categorized/20221012_1_500_batch01hand_closeup_highSchoolGym_mp4\\walking\\seq_000047.mp4 | Ground Truth: walking | Predicted: dancing | ✘ MISMATCH\n",
      "Video: C:/Users/anaba/OneDrive/Desktop/Master Thesis/bias-action-recognition/bedlam/be_imagedata_download/categorized/20221012_1_500_batch01hand_closeup_highSchoolGym_mp4\\walking\\seq_000060.mp4 | Ground Truth: walking | Predicted: kneeling | ✘ MISMATCH\n",
      "Video: C:/Users/anaba/OneDrive/Desktop/Master Thesis/bias-action-recognition/bedlam/be_imagedata_download/categorized/20221012_1_500_batch01hand_closeup_highSchoolGym_mp4\\walking\\seq_000079.mp4 | Ground Truth: walking | Predicted: dancing | ✘ MISMATCH\n",
      "Video: C:/Users/anaba/OneDrive/Desktop/Master Thesis/bias-action-recognition/bedlam/be_imagedata_download/categorized/20221012_1_500_batch01hand_closeup_highSchoolGym_mp4\\walking\\seq_000119.mp4 | Ground Truth: walking | Predicted: throwing | ✘ MISMATCH\n",
      "Video: C:/Users/anaba/OneDrive/Desktop/Master Thesis/bias-action-recognition/bedlam/be_imagedata_download/categorized/20221012_1_500_batch01hand_closeup_highSchoolGym_mp4\\walking\\seq_000131.mp4 | Ground Truth: walking | Predicted: kneeling | ✘ MISMATCH\n"
     ]
    }
   ],
   "source": [
    "# Process all videos in parent folder\n",
    "correct_predictions = 0\n",
    "total_videos = 0\n",
    "ground_truths = []\n",
    "predictions = []\n",
    "\n",
    "for root, _, files in os.walk(parent_folder):\n",
    "    for file in files:\n",
    "        if file.endswith(\".mp4\"):\n",
    "            video_path = os.path.join(root, file)\n",
    "            ground_truth = extract_ground_truth(video_path)\n",
    "            if not ground_truth:\n",
    "                continue\n",
    "            \n",
    "            total_videos += 1\n",
    "            dict_file = {'filename': video_path, 'tar': False, 'modality': 'RGB', 'start_index': 0}\n",
    "            video = pipeline(dict_file)\n",
    "            video_tensor = video['imgs'].unsqueeze(0).cuda().float()\n",
    "            \n",
    "            with torch.no_grad():\n",
    "                if config.use_torch_amp:\n",
    "                    with torch.cuda.amp.autocast():\n",
    "                        output = model(video_tensor)\n",
    "                else:\n",
    "                    output = model(video_tensor)\n",
    "                logits = output['logits']\n",
    "            \n",
    "            pred_index = logits.argmax(-1).item()\n",
    "            predicted_label = class_names[pred_index]\n",
    "            \n",
    "            ground_truths.append(ground_truth)\n",
    "            predictions.append(predicted_label)\n",
    "            \n",
    "            match = \"✔ MATCH\" if predicted_label == ground_truth else \"✘ MISMATCH\"\n",
    "            if predicted_label == ground_truth:\n",
    "                correct_predictions += 1\n",
    "            \n",
    "            print(f'Video: {video_path} | Ground Truth: {ground_truth} | Predicted: {predicted_label} | {match}')"
   ]
  },
  {
   "cell_type": "code",
   "execution_count": 349,
   "id": "f2c1e735-bd4c-4b6d-8f4a-46e662b3c835",
   "metadata": {
    "pycharm": {
     "name": "#%%\n"
    }
   },
   "outputs": [
    {
     "name": "stdout",
     "output_type": "stream",
     "text": [
      "Overall Accuracy: 29.20% (33/113)\n"
     ]
    },
    {
     "data": {
      "image/png": "[encoded data removed]",
      "text/plain": [
       "<Figure size 800x600 with 2 Axes>"
      ]
     },
     "metadata": {},
     "output_type": "display_data"
    }
   ],
   "source": [
    "# Calculate and print overall accuracy\n",
    "accuracy = (correct_predictions / total_videos) * 100 if total_videos > 0 else 0\n",
    "print(f'Overall Accuracy: {accuracy:.2f}% ({correct_predictions}/{total_videos})')\n",
    "\n",
    "# Generate confusion matrix\n",
    "cm = confusion_matrix(ground_truths, predictions, labels=class_names)\n",
    "plt.figure(figsize=(8, 6))\n",
    "sns.heatmap(cm, annot=True, fmt='d', cmap='Blues', xticklabels=class_names, yticklabels=class_names)\n",
    "plt.xlabel(\"Predicted Label\")\n",
    "plt.ylabel(\"True Label\")\n",
    "plt.title(\"Confusion Matrix of TC-CLIP Predictions\")\n",
    "plt.show()"
   ]
  },
  {
   "cell_type": "code",
   "execution_count": null,
   "id": "8034f321-1680-4591-9c79-8e79b244efde",
   "metadata": {
    "pycharm": {
     "name": "#%%\n"
    }
   },
   "outputs": [],
   "source": []
  }
 ],
 "metadata": {
  "kernelspec": {
   "display_name": "Python 3 (ipykernel)",
   "language": "python",
   "name": "python3"
  },
  "language_info": {
   "codemirror_mode": {
    "name": "ipython",
    "version": 3
   },
   "file_extension": ".py",
   "mimetype": "text/x-python",
   "name": "python",
   "nbconvert_exporter": "python",
   "pygments_lexer": "ipython3",
   "version": "3.12.4"
  }
 },
 "nbformat": 4,
 "nbformat_minor": 5
}